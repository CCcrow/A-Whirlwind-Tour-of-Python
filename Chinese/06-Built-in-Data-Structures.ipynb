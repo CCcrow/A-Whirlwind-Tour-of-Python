{
 "cells": [
  {
   "cell_type": "markdown",
   "metadata": {},
   "source": [
    "# 内置数据结构\n",
    "\n",
    "我们已经看过 Python 的一些基本数据类型： ``int``, ``float``, ``complex``, ``bool``, ``str`` 等等。\n",
    "Python 同样也拥有一些内置的复合类型作为其它类型的容器。\n",
    "这些复合类型有：\n",
    "\n",
    "| 类型名     | 举例                       |描述                                    |\n",
    "|-----------|---------------------------|---------------------------------------|\n",
    "| ``list``  | ``[1, 2, 3]``             | 列表，有序集合                    |\n",
    "| ``tuple`` | ``(1, 2, 3)``             | 元组，不可变的有序集合          |\n",
    "| ``dict``  | ``{'a':1, 'b':2, 'c':3}`` | 字典，无序的键-值映射 (key,value)          |\n",
    "| ``set``   | ``{1, 2, 3}``             | 集合，具有无序性和唯一性 |\n",
    "\n",
    "正如你所见，圆括号、方括号和大括号对于这些集合类型有着不同的意义。\n",
    "接下来，我们将在这里快速认识这些数据结构。"
   ]
  },
  {
   "cell_type": "markdown",
   "metadata": {},
   "source": [
    "## 列表\n",
    "列表是 Python 中基本的**有序**且**不变**的数据集合类型。\n",
    "列表用方括号表示，元素之间用逗号隔开，下面是一个包括前几项质数的列表："
   ]
  },
  {
   "cell_type": "code",
   "execution_count": 1,
   "metadata": {
    "collapsed": true
   },
   "outputs": [],
   "source": [
    "L = [2, 3, 5, 7]"
   ]
  },
  {
   "cell_type": "markdown",
   "metadata": {},
   "source": [
    "列表有着许多好用的方法。\n",
    "这里我们将快速介绍那些最常用的方法："
   ]
  },
  {
   "cell_type": "code",
   "execution_count": 2,
   "metadata": {},
   "outputs": [
    {
     "data": {
      "text/plain": [
       "4"
      ]
     },
     "execution_count": 2,
     "metadata": {},
     "output_type": "execute_result"
    }
   ],
   "source": [
    "# 列表长度\n",
    "len(L)"
   ]
  },
  {
   "cell_type": "code",
   "execution_count": 3,
   "metadata": {},
   "outputs": [
    {
     "data": {
      "text/plain": [
       "[2, 3, 5, 7, 11]"
      ]
     },
     "execution_count": 3,
     "metadata": {},
     "output_type": "execute_result"
    }
   ],
   "source": [
    "# 在列表尾部添加一个元素\n",
    "L.append(11)\n",
    "L"
   ]
  },
  {
   "cell_type": "code",
   "execution_count": 4,
   "metadata": {},
   "outputs": [
    {
     "data": {
      "text/plain": [
       "[2, 3, 5, 7, 11, 13, 17, 19]"
      ]
     },
     "execution_count": 4,
     "metadata": {},
     "output_type": "execute_result"
    }
   ],
   "source": [
    "# 用 + 连接\n",
    "L + [13, 17, 19]"
   ]
  },
  {
   "cell_type": "code",
   "execution_count": 5,
   "metadata": {},
   "outputs": [
    {
     "data": {
      "text/plain": [
       "[1, 2, 3, 4, 5, 6]"
      ]
     },
     "execution_count": 5,
     "metadata": {},
     "output_type": "execute_result"
    }
   ],
   "source": [
    "# 进行原地排序\n",
    "L = [2, 5, 1, 6, 3, 4]\n",
    "L.sort()\n",
    "L"
   ]
  },
  {
   "cell_type": "markdown",
   "metadata": {},
   "source": [
    "除此之外，还有许多内置的列表方法，它们在 Python 的[官方文档](https://docs.python.org/3/tutorial/datastructures.html)中有详细介绍。\n",
    "\n",
    "我们已经演示了列表包含单一类型元素的使用方法，然而 Python 复合类型的强大之处在于它可以包含**任何**类型的对象，甚至是不同类型的混合，例如："
   ]
  },
  {
   "cell_type": "code",
   "execution_count": 6,
   "metadata": {
    "collapsed": true
   },
   "outputs": [],
   "source": [
    "L = [1, 'two', 3.14, [0, 3, 5]]"
   ]
  },
  {
   "cell_type": "markdown",
   "metadata": {},
   "source": [
    "这种灵活性是 Python 动态类型系统的结果，\n",
    "而在 C 这种静态类型语言中创建这样一个复合类型的序列可以说是非常让人头疼了，\n",
    "然而，Python 的列表甚至还能将其它列表作为其元素。\n",
    "正是这种变量类型的灵活性使得 Python 的代码写起来更为快速和简单！\n",
    "\n",
    "到现在为止，我们一直着眼于将列表作为一个整体来操作，而相对的，列表另外一个重要的部分就是访问其中的元素个体。\n",
    "这一部分通过*索引(indexing)*以及*切片(slicing)*来完成，我们将在下面讨论它们。"
   ]
  },
  {
   "cell_type": "markdown",
   "metadata": {},
   "source": [
    "### 列表索引与切片\n",
    "Python 对于复合类型变量的元素访问提供了*索引(indexing)*和*切片(slicing)*的方法，前者用于访问单个元素，后者用于多个元素。\n",
    "我们会看到，两者都使用一个方括号的语法来表示。\n",
    "让我们回到之前的质数列表："
   ]
  },
  {
   "cell_type": "code",
   "execution_count": 7,
   "metadata": {
    "collapsed": true
   },
   "outputs": [],
   "source": [
    "L = [2, 3, 5, 7, 11]"
   ]
  },
  {
   "cell_type": "markdown",
   "metadata": {},
   "source": [
    "Python 使用了**从零开始**的索引，所以我们用下面的语法来取得列表中的第一个以及第二个元素："
   ]
  },
  {
   "cell_type": "code",
   "execution_count": 8,
   "metadata": {},
   "outputs": [
    {
     "data": {
      "text/plain": [
       "2"
      ]
     },
     "execution_count": 8,
     "metadata": {},
     "output_type": "execute_result"
    }
   ],
   "source": [
    "L[0]"
   ]
  },
  {
   "cell_type": "code",
   "execution_count": 9,
   "metadata": {},
   "outputs": [
    {
     "data": {
      "text/plain": [
       "3"
      ]
     },
     "execution_count": 9,
     "metadata": {},
     "output_type": "execute_result"
    }
   ],
   "source": [
    "L[1]"
   ]
  },
  {
   "cell_type": "markdown",
   "metadata": {},
   "source": [
    "位于列表末尾的元素可以用负数来访问，``-1`` 代表最后一个元素，依次类推："
   ]
  },
  {
   "cell_type": "code",
   "execution_count": 10,
   "metadata": {},
   "outputs": [
    {
     "data": {
      "text/plain": [
       "11"
      ]
     },
     "execution_count": 10,
     "metadata": {},
     "output_type": "execute_result"
    }
   ],
   "source": [
    "L[-1]"
   ]
  },
  {
   "cell_type": "code",
   "execution_count": 11,
   "metadata": {},
   "outputs": [
    {
     "data": {
      "text/plain": [
       "7"
      ]
     },
     "execution_count": 11,
     "metadata": {},
     "output_type": "execute_result"
    }
   ],
   "source": [
    "L[-2]"
   ]
  },
  {
   "cell_type": "markdown",
   "metadata": {},
   "source": [
    "你可以用下面这种更直观可视的方式来理解索引："
   ]
  },
  {
   "cell_type": "markdown",
   "metadata": {},
   "source": [
    "![List Indexing Figure](fig/list-indexing.png)"
   ]
  },
  {
   "cell_type": "markdown",
   "metadata": {},
   "source": [
    "列表中的元素用方框中字号更大的数字表示；列表索引则用方框上下的较小的数字来表示。\n",
    "在这里，``L[2]`` 返回数字 $5$，因为那是索引 ``2`` 下的数值。"
   ]
  },
  {
   "cell_type": "markdown",
   "metadata": {},
   "source": [
    "*索引(indexing)* 用来取出列表中的单个元素，而*切片(slicing)*则是取出在子列表中取出多个值的方法。\n",
    "它用一个冒号来表示子序列的起点（包含）和终点（不包含）。\n",
    "举个例子，为了得到列表中的前三个元素，我们可以这样做："
   ]
  },
  {
   "cell_type": "code",
   "execution_count": 12,
   "metadata": {},
   "outputs": [
    {
     "data": {
      "text/plain": [
       "[2, 3, 5]"
      ]
     },
     "execution_count": 12,
     "metadata": {},
     "output_type": "execute_result"
    }
   ],
   "source": [
    "L[0:3]"
   ]
  },
  {
   "cell_type": "markdown",
   "metadata": {},
   "source": [
    "留意 ``0`` 和 ``3`` 在语法中的位置以及切片在两个索引之间的取值方式。\n",
    "如果我们把第一个索引值（也就是``0``）省去，那么我们也会得到同样的结果："
   ]
  },
  {
   "cell_type": "code",
   "execution_count": 13,
   "metadata": {},
   "outputs": [
    {
     "data": {
      "text/plain": [
       "[2, 3, 5]"
      ]
     },
     "execution_count": 13,
     "metadata": {},
     "output_type": "execute_result"
    }
   ],
   "source": [
    "L[:3]"
   ]
  },
  {
   "cell_type": "markdown",
   "metadata": {},
   "source": [
    "同样的，如果我们省去后面的索引值，它的默认值为列表的长度。\n",
    "这样一来，访问列表最后 $3$ 个元素可以用下面这种方式："
   ]
  },
  {
   "cell_type": "code",
   "execution_count": 14,
   "metadata": {},
   "outputs": [
    {
     "data": {
      "text/plain": [
       "[5, 7, 11]"
      ]
     },
     "execution_count": 14,
     "metadata": {},
     "output_type": "execute_result"
    }
   ],
   "source": [
    "L[-3:]"
   ]
  },
  {
   "cell_type": "markdown",
   "metadata": {},
   "source": [
    "最后，我们可以用第三个整数来表示步长；例如，要在列表中每 ``2`` 个元素选取一个，我们可以这样写："
   ]
  },
  {
   "cell_type": "code",
   "execution_count": 15,
   "metadata": {},
   "outputs": [
    {
     "data": {
      "text/plain": [
       "[2, 5, 11]"
      ]
     },
     "execution_count": 15,
     "metadata": {},
     "output_type": "execute_result"
    }
   ],
   "source": [
    "L[::2]  # 等同于 L[0:len(L):2]"
   ]
  },
  {
   "cell_type": "markdown",
   "metadata": {},
   "source": [
    "另外一个特别有用的方法是定义一个负数的步长，它可以把序列翻转："
   ]
  },
  {
   "cell_type": "code",
   "execution_count": 16,
   "metadata": {},
   "outputs": [
    {
     "data": {
      "text/plain": [
       "[11, 7, 5, 3, 2]"
      ]
     },
     "execution_count": 16,
     "metadata": {},
     "output_type": "execute_result"
    }
   ],
   "source": [
    "L[::-1]"
   ]
  },
  {
   "cell_type": "markdown",
   "metadata": {},
   "source": [
    "索引和切片都不仅可以被用来访问元素，它们也可以改变元素。\n",
    "语法就和你所想象的一样："
   ]
  },
  {
   "cell_type": "code",
   "execution_count": 17,
   "metadata": {},
   "outputs": [
    {
     "name": "stdout",
     "output_type": "stream",
     "text": [
      "[100, 3, 5, 7, 11]\n"
     ]
    }
   ],
   "source": [
    "L[0] = 100\n",
    "print(L)"
   ]
  },
  {
   "cell_type": "code",
   "execution_count": 18,
   "metadata": {},
   "outputs": [
    {
     "name": "stdout",
     "output_type": "stream",
     "text": [
      "[100, 55, 56, 7, 11]\n"
     ]
    }
   ],
   "source": [
    "L[1:3] = [55, 56]\n",
    "print(L)"
   ]
  },
  {
   "cell_type": "markdown",
   "metadata": {},
   "source": [
    "切片的类似用法也同样出现在许多其它的科学计算包中，包括 NumPy 和 Pandas（在简介中提到过）。\n",
    "\n",
    "既然我们已经学习了 Python 的列表，并且知道了如何在顺序复合类型中访问其中的元素，那么现在我们可以看看之前提到的其它三种标准复合数据类型。"
   ]
  },
  {
   "cell_type": "markdown",
   "metadata": {},
   "source": [
    "## 元组\n",
    "元组在各种意义上都和列表非常相似，但是它们是用圆括号而不是方括号来定义的："
   ]
  },
  {
   "cell_type": "code",
   "execution_count": 19,
   "metadata": {
    "collapsed": true
   },
   "outputs": [],
   "source": [
    "t = (1, 2, 3)"
   ]
  },
  {
   "cell_type": "markdown",
   "metadata": {},
   "source": [
    "它们也可以完全不用括号来进行定义："
   ]
  },
  {
   "cell_type": "code",
   "execution_count": 20,
   "metadata": {},
   "outputs": [
    {
     "name": "stdout",
     "output_type": "stream",
     "text": [
      "(1, 2, 3)\n"
     ]
    }
   ],
   "source": [
    "t = 1, 2, 3\n",
    "print(t)"
   ]
  },
  {
   "cell_type": "markdown",
   "metadata": {},
   "source": [
    "和列表相似的，元组也有长度，其单个元素也可以用方括号来提取："
   ]
  },
  {
   "cell_type": "code",
   "execution_count": 21,
   "metadata": {},
   "outputs": [
    {
     "data": {
      "text/plain": [
       "3"
      ]
     },
     "execution_count": 21,
     "metadata": {},
     "output_type": "execute_result"
    }
   ],
   "source": [
    "len(t)"
   ]
  },
  {
   "cell_type": "code",
   "execution_count": 22,
   "metadata": {},
   "outputs": [
    {
     "data": {
      "text/plain": [
       "1"
      ]
     },
     "execution_count": 22,
     "metadata": {},
     "output_type": "execute_result"
    }
   ],
   "source": [
    "t[0]"
   ]
  },
  {
   "cell_type": "markdown",
   "metadata": {},
   "source": [
    "元组和列表最主要的区别还是在于元组是**不可变**的，这意味着一旦它们被创建，它们的大小和内容都不能被改变："
   ]
  },
  {
   "cell_type": "code",
   "execution_count": 23,
   "metadata": {},
   "outputs": [
    {
     "ename": "TypeError",
     "evalue": "'tuple' object does not support item assignment",
     "output_type": "error",
     "traceback": [
      "\u001b[0;31m---------------------------------------------------------------------------\u001b[0m",
      "\u001b[0;31mTypeError\u001b[0m                                 Traceback (most recent call last)",
      "\u001b[0;32m<ipython-input-23-141c76cb54a2>\u001b[0m in \u001b[0;36m<module>\u001b[0;34m()\u001b[0m\n\u001b[0;32m----> 1\u001b[0;31m \u001b[0mt\u001b[0m\u001b[0;34m[\u001b[0m\u001b[0;36m1\u001b[0m\u001b[0;34m]\u001b[0m \u001b[0;34m=\u001b[0m \u001b[0;36m4\u001b[0m\u001b[0;34m\u001b[0m\u001b[0m\n\u001b[0m",
      "\u001b[0;31mTypeError\u001b[0m: 'tuple' object does not support item assignment"
     ]
    }
   ],
   "source": [
    "t[1] = 4"
   ]
  },
  {
   "cell_type": "code",
   "execution_count": 24,
   "metadata": {},
   "outputs": [
    {
     "ename": "AttributeError",
     "evalue": "'tuple' object has no attribute 'append'",
     "output_type": "error",
     "traceback": [
      "\u001b[0;31m---------------------------------------------------------------------------\u001b[0m",
      "\u001b[0;31mAttributeError\u001b[0m                            Traceback (most recent call last)",
      "\u001b[0;32m<ipython-input-24-e8bd1632f9dd>\u001b[0m in \u001b[0;36m<module>\u001b[0;34m()\u001b[0m\n\u001b[0;32m----> 1\u001b[0;31m \u001b[0mt\u001b[0m\u001b[0;34m.\u001b[0m\u001b[0mappend\u001b[0m\u001b[0;34m(\u001b[0m\u001b[0;36m4\u001b[0m\u001b[0;34m)\u001b[0m\u001b[0;34m\u001b[0m\u001b[0m\n\u001b[0m",
      "\u001b[0;31mAttributeError\u001b[0m: 'tuple' object has no attribute 'append'"
     ]
    }
   ],
   "source": [
    "t.append(4)"
   ]
  },
  {
   "cell_type": "markdown",
   "metadata": {},
   "source": [
    "元组经常被用在 Python 的编程中；一个特别常见的例子就是函数返回多个值。\n",
    "举个例子，浮点对象的方法 ``as_integer_ratio()`` 可以返回浮点数对应的分子和分母，这个双值就是以元组的形式返回的："
   ]
  },
  {
   "cell_type": "code",
   "execution_count": 25,
   "metadata": {},
   "outputs": [
    {
     "data": {
      "text/plain": [
       "(1, 8)"
      ]
     },
     "execution_count": 25,
     "metadata": {},
     "output_type": "execute_result"
    }
   ],
   "source": [
    "x = 0.125\n",
    "x.as_integer_ratio()"
   ]
  },
  {
   "cell_type": "markdown",
   "metadata": {},
   "source": [
    "这些返回的多个值也可以用下面的方法一个个单独赋值："
   ]
  },
  {
   "cell_type": "code",
   "execution_count": 26,
   "metadata": {},
   "outputs": [
    {
     "name": "stdout",
     "output_type": "stream",
     "text": [
      "0.125\n"
     ]
    }
   ],
   "source": [
    "numerator, denominator = x.as_integer_ratio()\n",
    "print(numerator / denominator)"
   ]
  },
  {
   "cell_type": "markdown",
   "metadata": {},
   "source": [
    "之前提到的列表索引和切片的逻辑同样也适用于元组，同时还有一些别的方法。\n",
    "详细的方法列表请参考 Python 的[官方文档](https://docs.python.org/3/tutorial/datastructures.html)。"
   ]
  },
  {
   "cell_type": "markdown",
   "metadata": {},
   "source": [
    "## 字典\n",
    "字典是一种非常灵活的键-值对的映射，它也是 Python 许多内部实现的基础。\n",
    "创建字典可以用一个花括号来维护一连串用冒号分隔的形如 ``key:value`` 的键值对："
   ]
  },
  {
   "cell_type": "code",
   "execution_count": 27,
   "metadata": {
    "collapsed": true
   },
   "outputs": [],
   "source": [
    "numbers = {'one':1, 'two':2, 'three':3}"
   ]
  },
  {
   "cell_type": "markdown",
   "metadata": {},
   "source": [
    "我们可以用列表和元组中提到的索引的方式来访问和改变字典中的项，只是这里的索引不再是从零开始的顺序下标，而是一个有效的字典索引键："
   ]
  },
  {
   "cell_type": "code",
   "execution_count": 28,
   "metadata": {},
   "outputs": [
    {
     "data": {
      "text/plain": [
       "2"
      ]
     },
     "execution_count": 28,
     "metadata": {},
     "output_type": "execute_result"
    }
   ],
   "source": [
    "# 通过键来访问字典中的值\n",
    "numbers['two']"
   ]
  },
  {
   "cell_type": "markdown",
   "metadata": {},
   "source": [
    "我们也可以用索引来加入新的项："
   ]
  },
  {
   "cell_type": "code",
   "execution_count": 29,
   "metadata": {},
   "outputs": [
    {
     "name": "stdout",
     "output_type": "stream",
     "text": [
      "{'one': 1, 'two': 2, 'three': 3, 'ninety': 90}\n"
     ]
    }
   ],
   "source": [
    "# 设置一个新的 key:value 对\n",
    "numbers['ninety'] = 90\n",
    "print(numbers)"
   ]
  },
  {
   "cell_type": "markdown",
   "metadata": {},
   "source": [
    "需要留心的是字典中并没有任何顺序的概念，这是设定好的。\n",
    "这种顺序的缺失使得字典的实现非常有效率，不论字典的大小如何，元素的随机访问都非常快（如果你对此感到好奇，你可以试着了解一下*哈希表(hash table)*的概念）。\n",
    "Python 的[官方文档](https://docs.python.org/3/library/stdtypes.html)中列出了字典可用方法的完整列表。"
   ]
  },
  {
   "cell_type": "markdown",
   "metadata": {},
   "source": [
    "## 集合\n",
    "\n",
    "第四种基本元素集是集合，它和数学上的集合定义相同，元素具有唯一性和无序性。\n",
    "集合的定义和列表、元组非常相似，除了它使用和字典一样的花括号这一点："
   ]
  },
  {
   "cell_type": "code",
   "execution_count": 30,
   "metadata": {
    "collapsed": true
   },
   "outputs": [],
   "source": [
    "primes = {2, 3, 5, 7}\n",
    "odds = {1, 3, 5, 7, 9}"
   ]
  },
  {
   "cell_type": "markdown",
   "metadata": {},
   "source": [
    "如果你熟悉集合的数学定义，你也一定不会对并、交、差、对等差分等操作感到陌生。\n",
    "Python 的集合通过方法和运算符实现了所有这些操作。\n",
    "对每一个操作，我们都会展示两种等价的方式："
   ]
  },
  {
   "cell_type": "code",
   "execution_count": 31,
   "metadata": {},
   "outputs": [
    {
     "data": {
      "text/plain": [
       "{1, 2, 3, 5, 7, 9}"
      ]
     },
     "execution_count": 31,
     "metadata": {},
     "output_type": "execute_result"
    }
   ],
   "source": [
    "# 并集：包含出现在任意一个集合中的元素\n",
    "primes | odds      # 使用运算符\n",
    "primes.union(odds) # 等价地使用对象的方法"
   ]
  },
  {
   "cell_type": "code",
   "execution_count": 32,
   "metadata": {},
   "outputs": [
    {
     "data": {
      "text/plain": [
       "{3, 5, 7}"
      ]
     },
     "execution_count": 32,
     "metadata": {},
     "output_type": "execute_result"
    }
   ],
   "source": [
    "# 交集：包含同时出现在两个集合中的元素\n",
    "primes & odds             # 使用运算符\n",
    "primes.intersection(odds) # 等价地使用对象的方法"
   ]
  },
  {
   "cell_type": "code",
   "execution_count": 33,
   "metadata": {},
   "outputs": [
    {
     "data": {
      "text/plain": [
       "{2}"
      ]
     },
     "execution_count": 33,
     "metadata": {},
     "output_type": "execute_result"
    }
   ],
   "source": [
    "# 差分：属于primes但不属于odds的元素\n",
    "primes - odds           # 使用运算符\n",
    "primes.difference(odds) # 等价地使用对象的方法"
   ]
  },
  {
   "cell_type": "code",
   "execution_count": 34,
   "metadata": {},
   "outputs": [
    {
     "data": {
      "text/plain": [
       "{1, 2, 9}"
      ]
     },
     "execution_count": 34,
     "metadata": {},
     "output_type": "execute_result"
    }
   ],
   "source": [
    "# 对称差分: 只出现在其中一个集合的元素\n",
    "primes ^ odds                     # 使用运算符\n",
    "primes.symmetric_difference(odds) # 等价地使用对象的方法"
   ]
  },
  {
   "cell_type": "markdown",
   "metadata": {},
   "source": [
    "集合还有更多的方法和运算法，你可能已经猜到了我想说什么：详情参考 Python [官方文档](https://docs.python.org/3/library/stdtypes.html)。"
   ]
  },
  {
   "cell_type": "markdown",
   "metadata": {},
   "source": [
    "## 更特殊的数据结构\n",
    "\n",
    "Python 包含了许多其他你可能觉得非常有用的数据结构，它们通常可以在内置的 ``collections`` 模块中得到。\n",
    "``collections`` 模块的完整文档在[这里](https://docs.python.org/3/library/collections.html)，你可以自行了解这些多种多样的对象。\n",
    "\n",
    "特别地，我偶然发现下面几个类型非常好用：\n",
    "\n",
    "- ``collections.namedtuple``: 像是一个元组，但是每一个值都有自己的名字\n",
    "- ``collections.defaultdict``: 像是一个字典，但是未定义的键对应一个用户设定的默认值\n",
    "- ``collections.OrderedDict``: 像是一个字典，但是键的顺序是被维护的\n",
    "\n",
    "一旦你了解了这些标准的内置集合类型，使用那些扩展的特性就非常符合直觉，同时我建议阅读它们的[使用方法](https://docs.python.org/3/library/collections.html)。"
   ]
  }
 ],
 "metadata": {
  "anaconda-cloud": {},
  "kernelspec": {
   "display_name": "Python 3",
   "language": "python",
   "name": "python3"
  },
  "language_info": {
   "codemirror_mode": {
    "name": "ipython",
    "version": 3
   },
   "file_extension": ".py",
   "mimetype": "text/x-python",
   "name": "python",
   "nbconvert_exporter": "python",
   "pygments_lexer": "ipython3",
   "version": "3.6.1"
  }
 },
 "nbformat": 4,
 "nbformat_minor": 1
}
