{
 "cells": [
  {
   "cell_type": "markdown",
   "metadata": {},
   "source": [
    "# 列表推导\n",
    "如果你读过足够多的 Python 代码的话，你最终一定会遇到著名的*列表推导 (list comprehension)*这种简短、高效的代码构建方式。如果你之前没有使用过这种特性，我希望你最终会爱上它。它的格式如下所示："
   ]
  },
  {
   "cell_type": "code",
   "execution_count": 1,
   "metadata": {},
   "outputs": [
    {
     "data": {
      "text/plain": [
       "[1, 2, 4, 5, 7, 8, 10, 11, 13, 14, 16, 17, 19]"
      ]
     },
     "execution_count": 1,
     "metadata": {},
     "output_type": "execute_result"
    }
   ],
   "source": [
    "[i for i in range(20) if i % 3 > 0]"
   ]
  },
  {
   "cell_type": "markdown",
   "metadata": {},
   "source": [
    "这行代码的结果是一个排除了数字 $3$ 及其倍数的列表。第一眼看上去这段代码也许有些令人困惑，但是随着你对 Python 代码的熟悉，阅读和书写列表推导代码将变得越来越自然。"
   ]
  },
  {
   "cell_type": "markdown",
   "metadata": {},
   "source": [
    "## 列表推导基础\n",
    "\n",
    "列表推导是将一个冗长的 ``for`` 循环列表构造语句压缩为一行简短易读代码的简单方法。比如，下面就是一个构造包含前 12 个平方数的列表的循环语句："
   ]
  },
  {
   "cell_type": "code",
   "execution_count": 2,
   "metadata": {},
   "outputs": [
    {
     "data": {
      "text/plain": [
       "[0, 1, 4, 9, 16, 25, 36, 49, 64, 81, 100, 121]"
      ]
     },
     "execution_count": 2,
     "metadata": {},
     "output_type": "execute_result"
    }
   ],
   "source": [
    "L = []\n",
    "for n in range(12):\n",
    "    L.append(n ** 2)\n",
    "L"
   ]
  },
  {
   "cell_type": "markdown",
   "metadata": {},
   "source": [
    "与之等价的列表推导如下所示："
   ]
  },
  {
   "cell_type": "code",
   "execution_count": 3,
   "metadata": {},
   "outputs": [
    {
     "data": {
      "text/plain": [
       "[0, 1, 4, 9, 16, 25, 36, 49, 64, 81, 100, 121]"
      ]
     },
     "execution_count": 3,
     "metadata": {},
     "output_type": "execute_result"
    }
   ],
   "source": [
    "[n ** 2 for n in range(12)]"
   ]
  },
  {
   "cell_type": "markdown",
   "metadata": {},
   "source": [
    "正如许多 Python 语句，你几乎可以直接用普通的英语读出这段代码的意义：“对于每个小于 $12$ 的 ``n``，构造一个包含 ``n`` 的平方的列表”。\n",
    "\n",
    "列表推导的基本语法是：``[``*``expr``* ``for`` *``var``* ``in`` *``iterable``*``]``，在这里 *``expr``* 是任意合法的表达式，，*``var``* 是变量名，*``iterable``* 是任意可以迭代的 Python 对象。"
   ]
  },
  {
   "cell_type": "markdown",
   "metadata": {},
   "source": [
    "## 多重迭代\n",
    "\n",
    "有的时候你可能需要从不止一个值构建列表，这个情况下，只要简单地在列表推导中加入另外一个 ``for`` 表达式即可："
   ]
  },
  {
   "cell_type": "code",
   "execution_count": 4,
   "metadata": {},
   "outputs": [
    {
     "data": {
      "text/plain": [
       "[(0, 0), (0, 1), (0, 2), (1, 0), (1, 1), (1, 2)]"
      ]
     },
     "execution_count": 4,
     "metadata": {},
     "output_type": "execute_result"
    }
   ],
   "source": [
    "[(i, j) for i in range(2) for j in range(3)]"
   ]
  },
  {
   "cell_type": "markdown",
   "metadata": {},
   "source": [
    "注意到第二个 ``for`` 表达式在这里起到了内层循环索引的作用，最快速地改变了结果的列表。列表推导中这种类型的构造可以继续拓展到 3、4 甚至更多次迭代，尽管增加到一定程度时代码的可读性会下降！"
   ]
  },
  {
   "cell_type": "markdown",
   "metadata": {},
   "source": [
    "## 迭代条件判断\n",
    "\n",
    "你可以通过在表达式尾部增加判断语句进一步地控制迭代的条件。在这一节的第一个例子中，我们从 $1$ 到 $20$ 迭代了所有整数，然后剔除了 $3$ 的倍数。看下面这个例子，观察构造语句的不同："
   ]
  },
  {
   "cell_type": "code",
   "execution_count": 5,
   "metadata": {},
   "outputs": [
    {
     "data": {
      "text/plain": [
       "[1, 2, 4, 5, 7, 8, 10, 11, 13, 14, 16, 17, 19]"
      ]
     },
     "execution_count": 5,
     "metadata": {},
     "output_type": "execute_result"
    }
   ],
   "source": [
    "[val for val in range(20) if val % 3 > 0]"
   ]
  },
  {
   "cell_type": "markdown",
   "metadata": {},
   "source": [
    "表达式 ``(var % 3 > 0)`` 为 ``True`` 仅当 ``val`` 不能被 $3$ 整除时。我们再一次看见，上一行代码的意义可以立即用英语读出来：“构造一个列表，包含每一个小于 $20$ 的整数，但是数值不能被 $3$ 整除”。一旦你对这种写法感到习惯，那么书写这种代码就变得更加简单——并且一眼看上去比与之等价的循环语句更好理解："
   ]
  },
  {
   "cell_type": "code",
   "execution_count": 6,
   "metadata": {},
   "outputs": [
    {
     "data": {
      "text/plain": [
       "[1, 2, 4, 5, 7, 8, 10, 11, 13, 14, 16, 17, 19]"
      ]
     },
     "execution_count": 6,
     "metadata": {},
     "output_type": "execute_result"
    }
   ],
   "source": [
    "L = []\n",
    "for val in range(20):\n",
    "    if val % 3:\n",
    "        L.append(val)\n",
    "L"
   ]
  },
  {
   "cell_type": "markdown",
   "metadata": {},
   "source": [
    "## 值条件判断\n",
    "\n",
    "如果你曾写过 C 语言代码，你可能对使用三目运算符 ``?`` 在一行内进行条件判断感到熟悉：\n",
    "``` C\n",
    "int absval = (val < 0) ? -val : val\n",
    "```\n",
    "Python 也有非常类似的语法，并且在列表推导、``lambda`` 函数和其他简单的表达式场景中也十分常用："
   ]
  },
  {
   "cell_type": "code",
   "execution_count": 7,
   "metadata": {},
   "outputs": [
    {
     "data": {
      "text/plain": [
       "10"
      ]
     },
     "execution_count": 7,
     "metadata": {},
     "output_type": "execute_result"
    }
   ],
   "source": [
    "val = -10\n",
    "val if val >= 0 else -val"
   ]
  },
  {
   "cell_type": "markdown",
   "metadata": {},
   "source": [
    "我们可以看到，上述代码实现了内置的取绝对值 ``abs()`` 函数，但是这种构造方式能够使你在列表推导中做更多有趣的事情。目前我们的代码变得越来越复杂，但是你可以做类似下面这段代码的事情："
   ]
  },
  {
   "cell_type": "code",
   "execution_count": 8,
   "metadata": {},
   "outputs": [
    {
     "data": {
      "text/plain": [
       "[1, -2, -4, 5, 7, -8, -10, 11, 13, -14, -16, 17, 19]"
      ]
     },
     "execution_count": 8,
     "metadata": {},
     "output_type": "execute_result"
    }
   ],
   "source": [
    "[val if val % 2 else -val\n",
    " for val in range(20) if val % 3]"
   ]
  },
  {
   "cell_type": "markdown",
   "metadata": {},
   "source": [
    "注意到上述列表推导表达式中在 ``for`` 循环表达式之前有一个换行：这在 Python 中是合法的，并且为了更好的可读性，经常用来截断过长的列表推导表达式。让我们重新看一下上述代码：我们在构造一个表达式，去除所有 $3$ 的倍数，并且把所有 $2$ 的倍数取负。"
   ]
  },
  {
   "cell_type": "markdown",
   "metadata": {},
   "source": [
    "一旦你理解了列表推导的动态性，那么理解其他类型的推导就变得易如反掌：语法几乎是一致的，仅仅在于括号的使用方法不同。\n",
    "\n",
    "举例来说，使用大括号你就可以使用*集合推导 (set comprehension)* 生成一个 ``set`` 对象："
   ]
  },
  {
   "cell_type": "code",
   "execution_count": 9,
   "metadata": {},
   "outputs": [
    {
     "data": {
      "text/plain": [
       "{0, 1, 4, 9, 16, 25, 36, 49, 64, 81, 100, 121}"
      ]
     },
     "execution_count": 9,
     "metadata": {},
     "output_type": "execute_result"
    }
   ],
   "source": [
    "{n**2 for n in range(12)}"
   ]
  },
  {
   "cell_type": "markdown",
   "metadata": {},
   "source": [
    "回忆一下，``set`` 是一个不含重复项的集合。因此集合推导也遵守了这个规则，消除了所有重复的项："
   ]
  },
  {
   "cell_type": "code",
   "execution_count": 10,
   "metadata": {},
   "outputs": [
    {
     "data": {
      "text/plain": [
       "{0, 1, 2}"
      ]
     },
     "execution_count": 10,
     "metadata": {},
     "output_type": "execute_result"
    }
   ],
   "source": [
    "{a % 3 for a in range(1000)}"
   ]
  },
  {
   "cell_type": "markdown",
   "metadata": {},
   "source": [
    "只要稍微调整一下语法，加一个冒号（``:``）就可以使用*字典推导 (dict comprehension)*："
   ]
  },
  {
   "cell_type": "code",
   "execution_count": 11,
   "metadata": {},
   "outputs": [
    {
     "data": {
      "text/plain": [
       "{0: 0, 1: 1, 2: 4, 3: 9, 4: 16, 5: 25}"
      ]
     },
     "execution_count": 11,
     "metadata": {},
     "output_type": "execute_result"
    }
   ],
   "source": [
    "{n:n**2 for n in range(6)}"
   ]
  },
  {
   "cell_type": "markdown",
   "metadata": {},
   "source": [
    "最后，如果你使用小括号而不是方括号，你就得到了*生成器表达式 (generator expression)*："
   ]
  },
  {
   "cell_type": "code",
   "execution_count": 12,
   "metadata": {},
   "outputs": [
    {
     "data": {
      "text/plain": [
       "<generator object <genexpr> at 0x10e53f150>"
      ]
     },
     "execution_count": 12,
     "metadata": {},
     "output_type": "execute_result"
    }
   ],
   "source": [
    "(n**2 for n in range(12))"
   ]
  },
  {
   "cell_type": "markdown",
   "metadata": {},
   "source": [
    "生成器表达式基本上和列表推导没有什么不同，区别仅仅在于生成器表达式是按需生成对象，而列表推导是一次产生全部对象。这里语言上的简单性掩盖了这种语言功能的强大：我们将在下面探讨这一点。"
   ]
  }
 ],
 "metadata": {
  "anaconda-cloud": {},
  "kernelspec": {
   "display_name": "Python 3",
   "language": "python",
   "name": "python3"
  },
  "language_info": {
   "codemirror_mode": {
    "name": "ipython",
    "version": 3
   },
   "file_extension": ".py",
   "mimetype": "text/x-python",
   "name": "python",
   "nbconvert_exporter": "python",
   "pygments_lexer": "ipython3",
   "version": "3.6.1"
  }
 },
 "nbformat": 4,
 "nbformat_minor": 1
}
