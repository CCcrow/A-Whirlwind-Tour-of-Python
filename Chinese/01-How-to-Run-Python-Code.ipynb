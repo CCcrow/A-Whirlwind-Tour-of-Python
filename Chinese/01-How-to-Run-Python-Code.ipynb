{
 "cells": [
  {
   "cell_type": "markdown",
   "metadata": {},
   "source": [
    "*This notebook comes from [A Whirlwind Tour of Python](http://www.oreilly.com/programming/free/a-whirlwind-tour-of-python.csp) by Jake VanderPlas (OReilly Media, 2016). This content is licensed [CC0](https://github.com/jakevdp/WhirlwindTourOfPython/blob/master/LICENSE). The full notebook listing is available at https://github.com/jakevdp/WhirlwindTourOfPython.*"
   ]
  },
  {
   "cell_type": "markdown",
   "metadata": {},
   "source": [
    "<!--NAVIGATION-->\n",
    "< [1. Introduction](00-Introduction.ipynb) | [Contents](Index.ipynb) | [A Quick Tour of Python Language Syntax](02-Basic-Python-Syntax.ipynb) >"
   ]
  },
  {
   "cell_type": "markdown",
   "metadata": {},
   "source": [
    "# 如何运行 Python 代码"
   ]
  },
  {
   "cell_type": "markdown",
   "metadata": {},
   "source": [
    "Python 是一种灵活的语言，你可以根据你手底下的任务选择不同的使用方法。\n",
    "Python 和其他编程语言的一个区别在于 Python 是*解释型 (interpreted) *而不是*编译型 (compiled) *。\n",
    "这样意味着 Python 是一行一行执行的，因此它具有 Fortran，C 或者 Java 这些编译型语言无法做的到“交互”的特性。\n",
    "这一节会介绍4种运行 Python 代码的主要方法：使用 *Python 解释器 (Python interpreter)* 或 *IPython 解释器 (IPython interpreter)*，运行*自包含脚本 (Self-contained Scripts)*，或者使用 *Jupyter notebook*。"
   ]
  },
  {
   "cell_type": "markdown",
   "metadata": {},
   "source": [
    "### Python 解释器\n",
    "\n",
    "逐行运行 Python 代码最基础的方法是在 Python 解释器中运行。\n",
    "安装 Python 语言运行时（在前边的一节提到过） 然后在命令行中输入 ``python`` （在Mac OS X 和 Unix/Linux 中使用Terminal，或者在Windows下使用CMD）：\n",
    "```\n",
    "$ python\n",
    "Python 3.5.1 |Continuum Analytics, Inc.| (default, Dec  7 2015, 11:24:55)\n",
    "Type \"help\", \"copyright\", \"credits\" or \"license\" for more information.\n",
    ">>>\n",
    "```\n",
    "当解释器启动之后，你可以开始输入并执行代码片段了。\n",
    "这里我们把解释器当作一个简单的计算器来用，执行一个计算过程并把结果赋给某个变量：\n",
    "``` python\n",
    ">>> 1 + 1\n",
    "2\n",
    ">>> x = 5\n",
    ">>> x * 3\n",
    "15\n",
    "```\n",
    "\n",
    "这个解释器让我们能够很方便地尝试一些 Python 代码片段。"
   ]
  },
  {
   "cell_type": "markdown",
   "metadata": {},
   "source": [
    "### IPython 解释器\n",
    "\n",
    "如果你在原始的 Python 解释器上花费了很多时间，你会发现它缺少作为一个成熟的交互开发环境的许多功能。\n",
    "另一种可选的解释器叫做 *IPython*，它包含在 Anaconda 发行版中，而且它包含许多相对于基础 Python 解释器更方便的增强功能。\n",
    "\n",
    "在命令行中输入 ``ipython`` 可以开启它：\n",
    "```\n",
    "$ ipython\n",
    "Python 3.5.1 |Continuum Analytics, Inc.| (default, Dec  7 2015, 11:24:55) \n",
    "Type \"copyright\", \"credits\" or \"license\" for more information.\n",
    "\n",
    "IPython 4.0.0 -- An enhanced Interactive Python.\n",
    "?         -> Introduction and overview of IPython's features.\n",
    "%quickref -> Quick reference.\n",
    "help      -> Python's own help system.\n",
    "object?   -> Details about 'object', use 'object??' for extra details.\n",
    "\n",
    "In [1]: \n",
    "```\n",
    "原始 Python 解释器和 IPython 解释器在命令行中的主要审美区别是：Python 默认使用 ``>>>`` 作为提示符，而 IPython 使用了数字标识（比如 ``In [1]:``）。\n",
    "不管怎样，我们可以像我们前边那样一行一行执行代码。\n",
    "``` ipython\n",
    "In [1]: 1 + 1\n",
    "Out[1]: 2\n",
    "\n",
    "In [2]: x = 5\n",
    "\n",
    "In [3]: x * 3\n",
    "Out[3]: 15\n",
    "```\n",
    "注意到，输入和输出都是数字。\n",
    "IPython 实现了很多有用的功能，更多的资料可以参见这个[进一步学习资料](16-Further-Resources.ipynb)."
   ]
  },
  {
   "cell_type": "markdown",
   "metadata": {},
   "source": [
    "### 自包含 Python 脚本\n",
    "\n",
    "在某些情况下，能够一行一行地运行 Python 代码块确实很有用，但是对于更多复杂的程序，把代码保存到文件中并一次性执行是更明智的选择。\n",
    "出于方便考虑，Python 脚本会被保存在扩展名为 *.py* 的文件中。\n",
    "比如，我们创建一个名叫 *test.py* 的文件，并把下边的内容写进去。\n",
    "``` python\n",
    "# file: test.py\n",
    "print(\"Running test.py\")\n",
    "x = 5\n",
    "print(\"Result is\", 3 * x)\n",
    "```\n",
    "为了运行这个文件，我们必须确保它在一个正确的目录下，然后在命令行中输入 ``python`` *``filename``* 。\n",
    "```\n",
    "$ python test.py\n",
    "Running test.py\n",
    "Result is 15\n",
    "```\n",
    "为了完成更复杂的程序，你只能选择创建这样的自包含脚本。"
   ]
  },
  {
   "cell_type": "markdown",
   "metadata": {},
   "source": [
    "### Jupyter notebook\n",
    "\n",
    "*Jupyter notebook* 是一种很好用的工具，它融合了交互式命令行和自包含脚本的特点，它是一种文档格式，其中可以有可执行的代码、格式化的文本、图片、甚至可以用交互功能组成整个文档。\n",
    "虽然这种 notebook 开始时只有 Python 版本，但是它正在不断得被许多其他语言兼容，到了现在，它已经是 [*Jupyter Project*](https://jupyter.org/) 的一部分。\n",
    "这种 notebook 不止是一种好用的开发环境，也是代码，数字，数据和文本相结合，通过丰富的计算和数据驱动的叙述来共享工作的一种手段。"
   ]
  },
  {
   "cell_type": "markdown",
   "metadata": {},
   "source": [
    "<!--NAVIGATION-->\n",
    "< [1. Introduction](00-Introduction.ipynb) | [Contents](Index.ipynb) | [A Quick Tour of Python Language Syntax](02-Basic-Python-Syntax.ipynb) >"
   ]
  }
 ],
 "metadata": {
  "kernelspec": {
   "display_name": "Python 3",
   "language": "python",
   "name": "python3"
  },
  "language_info": {
   "codemirror_mode": {
    "name": "ipython",
    "version": 3
   },
   "file_extension": ".py",
   "mimetype": "text/x-python",
   "name": "python",
   "nbconvert_exporter": "python",
   "pygments_lexer": "ipython3",
   "version": "3.5.2"
  }
 },
 "nbformat": 4,
 "nbformat_minor": 1
}
