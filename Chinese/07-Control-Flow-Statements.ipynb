{
 "cells": [
  {
   "cell_type": "markdown",
   "metadata": {},
   "source": [
    "# 控制流"
   ]
  },
  {
   "cell_type": "markdown",
   "metadata": {},
   "source": [
    "在编程中，学习了*控制流(Control flow)*才算是真正投入编程实践的部分。\n",
    "没有它，程序就只是一串等待顺序执行的语句列表。\n",
    "有了控制流，你就可以有条件地或者循环地执行某一个代码块，这些基本的代码块可以组合成意想不到复杂的程序！\n",
    "\n",
    "这里我们会介绍*条件语句(conditional statements)*（包括“``if``”、“``elif``”和“``else``”）以及*循环语句(loop statements)*（包括“``for``”和“``while``”，附加地还有“``break``”、“``continue``”和“``pass``”）。"
   ]
  },
  {
   "cell_type": "markdown",
   "metadata": {},
   "source": [
    "## 条件语句: ``if``-``elif``-``else``:\n",
    "条件语句，通常是*if-then*语句，程序根据布尔条件执行特定代码片段。\n",
    "下面是 Python 条件语句一个基本的例子："
   ]
  },
  {
   "cell_type": "code",
   "execution_count": 1,
   "metadata": {},
   "outputs": [
    {
     "name": "stdout",
     "output_type": "stream",
     "text": [
      "-15 is negative\n"
     ]
    }
   ],
   "source": [
    "x = -15\n",
    "\n",
    "if x == 0:\n",
    "    print(x, \"is zero\")\n",
    "elif x > 0:\n",
    "    print(x, \"is positive\")\n",
    "elif x < 0:\n",
    "    print(x, \"is negative\")\n",
    "else:\n",
    "    print(x, \"is unlike anything I've ever seen...\")"
   ]
  },
  {
   "cell_type": "markdown",
   "metadata": {},
   "source": [
    "特别要注意冒号(``:``)的使用以及用来分隔代码的空白符。\n",
    "\n",
    "Python 采用的 ``if`` 和 ``else`` 关键字也经常被用在其它语言中，但是关键字 ``elif`` 会比较独特，它是 ``else if`` 的缩写。\n",
    "在这些条件语句中，``elif`` 和 ``else`` 块是可选的，另外，你可以根据需要使用任意数量的 ``elif`` 语句。"
   ]
  },
  {
   "cell_type": "markdown",
   "metadata": {},
   "source": [
    "## ``for`` 循环\n",
    "Python 中的循环是一种重复执行某些代码语句的一种方式。\n",
    "举个例子，如果我们想要打印出一个列表中的每一个元素，我们可以使用 ``for`` 循环："
   ]
  },
  {
   "cell_type": "code",
   "execution_count": 2,
   "metadata": {},
   "outputs": [
    {
     "name": "stdout",
     "output_type": "stream",
     "text": [
      "2 3 5 7 "
     ]
    }
   ],
   "source": [
    "for N in [2, 3, 5, 7]:\n",
    "    print(N, end=' ') # 在同一行上打印"
   ]
  },
  {
   "cell_type": "markdown",
   "metadata": {},
   "source": [
    "注意到 ``for`` 循环的简洁性：我们可以定义我们想要用的循环变量和循环的序列，使用 ``in`` 来连接它们，这是一种非常符合直觉且可读的方式。\n",
    "更具体的，“``in``”运算符右边的对象可以使用任何 Python 中的*迭代器(iterator)*。\n",
    "一个迭代器可以被理解成一个一般的序列，我们将会在[Iterators](10-Iterators.ipynb)这一节中讨论它们。\n",
    "\n",
    "举个例子，Python 中最常用的迭代器是 ``range`` 对象，它可以生成数字的序列："
   ]
  },
  {
   "cell_type": "code",
   "execution_count": 3,
   "metadata": {},
   "outputs": [
    {
     "name": "stdout",
     "output_type": "stream",
     "text": [
      "0 1 2 3 4 5 6 7 8 9 "
     ]
    }
   ],
   "source": [
    "for i in range(10):\n",
    "    print(i, end=' ')"
   ]
  },
  {
   "cell_type": "markdown",
   "metadata": {},
   "source": [
    "序列默认从 $0$ 开始生成，按照惯例，域的上界并没有包含在输出中。\n",
    "Range 对象也可以使用更为复杂的参数来生成："
   ]
  },
  {
   "cell_type": "code",
   "execution_count": 4,
   "metadata": {},
   "outputs": [
    {
     "data": {
      "text/plain": [
       "[5, 6, 7, 8, 9]"
      ]
     },
     "execution_count": 4,
     "metadata": {},
     "output_type": "execute_result"
    }
   ],
   "source": [
    "# 从 5 到 10 的范围\n",
    "list(range(5, 10))"
   ]
  },
  {
   "cell_type": "code",
   "execution_count": 5,
   "metadata": {},
   "outputs": [
    {
     "data": {
      "text/plain": [
       "[0, 2, 4, 6, 8]"
      ]
     },
     "execution_count": 5,
     "metadata": {},
     "output_type": "execute_result"
    }
   ],
   "source": [
    "# 从 0 到 10 的范围，步长为2\n",
    "list(range(0, 10, 2))"
   ]
  },
  {
   "cell_type": "markdown",
   "metadata": {},
   "source": [
    "你会发现 ``range`` 参数的意义和我们在[Lists](06-Built-in-Data-Structures.ipynb#Lists)中提到的切片的语法很像。\n",
    "\n",
    "同时要留意 ``range()`` 也是 Python 2 和 Python 3 的区别之一：在 Python 2 中，``range()`` 生成一个列表，而在 Python 3 中，``range()`` 生成一个可迭代的对象。"
   ]
  },
  {
   "cell_type": "markdown",
   "metadata": {},
   "source": [
    "## ``while`` 循环\n",
    "Python 中另外的一种循环类型是 ``while`` 循环，它保持循环直到不再满足某种条件："
   ]
  },
  {
   "cell_type": "code",
   "execution_count": 6,
   "metadata": {},
   "outputs": [
    {
     "name": "stdout",
     "output_type": "stream",
     "text": [
      "0 1 2 3 4 5 6 7 8 9 "
     ]
    }
   ],
   "source": [
    "i = 0\n",
    "while i < 10:\n",
    "    print(i, end=' ')\n",
    "    i += 1"
   ]
  },
  {
   "cell_type": "markdown",
   "metadata": {},
   "source": [
    "``while`` 循环的参数用一个布尔表达式来表示，循环被执行直到表达式的值为假。"
   ]
  },
  {
   "cell_type": "markdown",
   "metadata": {},
   "source": [
    "## ``break`` and ``continue``: 循环的微调\n",
    "循环內有两种有用的语句来微调它们的执行：\n",
    "\n",
    "- ``break`` 语句跳出整个循环体\n",
    "- ``continue`` 语句跳出当前循环，转到下一次迭代中\n",
    "\n",
    "它们可以被用在 ``for`` 和 ``while`` 循环中。\n",
    "\n",
    "这里有一个使用 ``continue`` 语句来打印奇数串的例子。\n",
    "在这个例子中，用 ``if-else`` 也可以完成任务，只是有时候 ``continue`` 语句是一种表达你心中所想的更为方便的方式。"
   ]
  },
  {
   "cell_type": "code",
   "execution_count": 7,
   "metadata": {},
   "outputs": [
    {
     "name": "stdout",
     "output_type": "stream",
     "text": [
      "1 3 5 7 9 11 13 15 17 19 "
     ]
    }
   ],
   "source": [
    "for n in range(20):\n",
    "    # 如果 n/2 的余数为 0，跳过本次循环的循环部分\n",
    "    if n % 2 == 0:\n",
    "        continue\n",
    "    print(n, end=' ')"
   ]
  },
  {
   "cell_type": "markdown",
   "metadata": {},
   "source": [
    "这里用 ``break`` 语句完成了一个不算简单的任务。\n",
    "这个循环会用斐波那契数填充一个列表，直到数字超过某一个值："
   ]
  },
  {
   "cell_type": "code",
   "execution_count": 8,
   "metadata": {},
   "outputs": [
    {
     "name": "stdout",
     "output_type": "stream",
     "text": [
      "[1, 1, 2, 3, 5, 8, 13, 21, 34, 55, 89]\n"
     ]
    }
   ],
   "source": [
    "a, b = 0, 1\n",
    "amax = 100\n",
    "L = []\n",
    "\n",
    "while True:\n",
    "    (a, b) = (b, a + b)\n",
    "    if a > amax:\n",
    "        break\n",
    "    L.append(a)\n",
    "\n",
    "print(L)"
   ]
  },
  {
   "cell_type": "markdown",
   "metadata": {},
   "source": [
    "注意到我们使用``while True``循环，它会一直保持循环直到遇到一个跳出语句！"
   ]
  },
  {
   "cell_type": "markdown",
   "metadata": {},
   "source": [
    "## 带有 ``else`` 块的循环\n",
    "Python 中有一个很少用到的 ``else`` 语句，它作为 ``for`` 和 ``while`` 循环的一部分。\n",
    "这个 **循环-``else``** 或许是 Python 中一个让人困惑的命名，我更倾向于把它当作 ``nobreak`` 语句：``else`` 块的代码只有当循环自然结束时才能执行，也就是说不能遇到 ``break`` 语句。\n",
    "\n",
    "下面是一个可能用到这个语法的例子——未优化的 *爱拉托逊斯筛法(Sieve of Eratosthenes)* ，一个用来找出质数的著名算法："
   ]
  },
  {
   "cell_type": "code",
   "execution_count": 9,
   "metadata": {},
   "outputs": [
    {
     "name": "stdout",
     "output_type": "stream",
     "text": [
      "[2, 3, 5, 7, 11, 13, 17, 19, 23, 29]\n"
     ]
    }
   ],
   "source": [
    "L = []\n",
    "nmax = 30\n",
    "\n",
    "for n in range(2, nmax):\n",
    "    for factor in L:\n",
    "        if n % factor == 0:\n",
    "            break\n",
    "    else: # 没有break\n",
    "        L.append(n)\n",
    "print(L)"
   ]
  },
  {
   "cell_type": "markdown",
   "metadata": {},
   "source": [
    "只有当所有的因子都不能整除给定数字 ``n`` 时，``else`` 语句才被执行。\n",
    "\n",
    "``while`` 循环的 ``else`` 语句也是同样的工作机制。"
   ]
  }
 ],
 "metadata": {
  "anaconda-cloud": {},
  "kernelspec": {
   "display_name": "Python 3",
   "language": "python",
   "name": "python3"
  },
  "language_info": {
   "codemirror_mode": {
    "name": "ipython",
    "version": 3
   },
   "file_extension": ".py",
   "mimetype": "text/x-python",
   "name": "python",
   "nbconvert_exporter": "python",
   "pygments_lexer": "ipython3",
   "version": "3.6.1"
  }
 },
 "nbformat": 4,
 "nbformat_minor": 1
}
