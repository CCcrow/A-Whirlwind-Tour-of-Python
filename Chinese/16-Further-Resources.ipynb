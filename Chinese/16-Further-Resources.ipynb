{
 "cells": [
  {
   "cell_type": "markdown",
   "metadata": {},
   "source": [
    "# 更多学习资源\n",
    "\n",
    "让我们用这一章来总结我们的 Python 旋风之旅！\n",
    "我希望当你阅读到这里时，你能对 Python 的基本的语法、语义、运算符和功能有一定的了解，并且能掌握一些 Python 的工具和代码块，来帮助你探索更多 Python 的知识。\n",
    "\n",
    "在全书中我们已经尝试向你介绍对于数据科学领域中 Python 一些最有用的知识，但这并不意味着这是一个全面、完整的 Python 介绍。\n",
    "如果你需要进一步理解 Python 语言本身以及如何高效使用 Python，下面是一些我推荐的资源：\n",
    "\n",
    "- [*Fluent Python*](http://shop.oreilly.com/product/0636920032519.do)，作者：Luciano Ramalho。这是一本非常不错的 Python 教材，探索了 Python 中的最佳实践以及常见的用法，包括标准库中大多数的用法。\n",
    "- [*Dive Into Python*](http://www.diveintopython.net/)，作者：Mark Pilgrim。这是一本免费的在线书籍。介绍了 Python 语言的详细用法。\n",
    "- [*Learn Python the Hard Way*](http://learnpythonthehardway.org/)，作者：Zed Shaw。这本书通过“在尝试中学习”的方法，着重强调了一个程序员可能最重要的一种技能：上 Google 搜索自己不清楚的问题。\n",
    "- [*Python Essential Reference*](http://www.dabeaz.com/per.html)，作者：David Beazley。这本精心写作的 700 页的“怪兽”包括了几乎所有需要知道的 Python 语言知识和它内置的库。如果你需要更专注于具体应用的知识，你可以看这位作者的另外一本书：[*Python Cookbook*](http://shop.oreilly.com/product/0636920027072.do)。\n",
    "\n",
    "在数据科学和科学计算领域，你可以阅读以下书籍来挖掘更多 Python 的知识：\n",
    "\n",
    "- [*The Python Data Science Handbook*](http://shop.oreilly.com/product/0636920034919.do)，作者：Jake VanderPlas。这本书从我们这次旋风之旅结束的地方开始，给读者展现了数据科学领域 Python 的技术栈和必需工具的一个较为全面的导引，内容涵盖了从数据整理、数据处理到机器学习。\n",
    "- [*Effective Computation in Physics*](http://shop.oreilly.com/product/0636920033424.do)，作者：Katie Huff、Anthony Scopatz。这本书适用于需要进行物理研究的人。这本书逐步介绍了科学计算的内容，还介绍了本书中提到的许多工具的使用。\n",
    "- [*Python for Data Analysis*](http://shop.oreilly.com/product/0636920023784.do)，作者：Wes McKinney。这本书的作者是 Pandas 库的创始人。这本书涵盖了 Pandas 库的详尽知识，也提供了许多其他工具的有用知识。\n",
    "\n",
    "最后，为了更广泛地了解 Python 世界，我推荐如下列表中的资源：\n",
    "\n",
    "- [*OReilly Python Resources*](http://shop.oreilly.com/category/browse-subjects/programming/python.do) O'Reilly 出版公司提供了许多关于 Python 的优秀书籍，并且提供了许多专门的主题，让你在 Python 世界中遨游。\n",
    "- *PyCon*、*SciPy*、和 *PyData*：PyCon、SciPy、PyData 大会每年吸引了数以千计的参会者，并且每年将其大部分节目存档为免费在线视频。这些已经成为一套学习 Python 语言、Python 包和库函数以及有关领域非常好的资料。你可以搜索谈话和教程的免费资源，其中谈话通常比较短，涉及到了新的库或者对以前的库的新鲜的观点；而教程可能长达数小时，涉及到如何使用讨论的这些工具以及其他内容。"
   ]
  }
 ],
 "metadata": {
  "anaconda-cloud": {},
  "kernelspec": {
   "display_name": "Python 3",
   "language": "python",
   "name": "python3"
  },
  "language_info": {
   "codemirror_mode": {
    "name": "ipython",
    "version": 3
   },
   "file_extension": ".py",
   "mimetype": "text/x-python",
   "name": "python",
   "nbconvert_exporter": "python",
   "pygments_lexer": "ipython3",
   "version": "3.6.1"
  }
 },
 "nbformat": 4,
 "nbformat_minor": 1
}
