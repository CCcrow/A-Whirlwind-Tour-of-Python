{
 "cells": [
  {
   "cell_type": "markdown",
   "metadata": {},
   "source": [
    "*This notebook comes from [A Whirlwind Tour of Python](http://www.oreilly.com/programming/free/a-whirlwind-tour-of-python.csp) by Jake VanderPlas (OReilly Media, 2016). This content is licensed [CC0](https://github.com/jakevdp/WhirlwindTourOfPython/blob/master/LICENSE). The full notebook listing is available at https://github.com/jakevdp/WhirlwindTourOfPython.*"
   ]
  },
  {
   "cell_type": "markdown",
   "metadata": {},
   "source": [
    "<!--NAVIGATION-->\n",
    "< [How to Run Python Code](01-How-to-Run-Python-Code.ipynb) | [Contents](Index.ipynb) | [Basic Python Semantics: Variables and Objects](03-Semantics-Variables.ipynb) >"
   ]
  },
  {
   "cell_type": "markdown",
   "metadata": {},
   "source": [
    "# Python 语法速览"
   ]
  },
  {
   "cell_type": "markdown",
   "metadata": {},
   "source": [
    "一开始 Python 是被当作一门用来教学的语言开发的，但是它的易用性和干净的语法让它被初学者和专家欢迎。\n",
    "\n",
    "\n",
    "Python 语法的简洁性导致一些人将其称为“可执行伪代码”，我自己的经验是，阅读和理解 Python 脚本比阅读类似的代码（例如 C）要容易得多。\n",
    "这里我们将开始讨论 Python 语法的主要特征。\n",
    "语法指的是语言的结构（即什么构成正确的程序）。\n",
    "在开始的时候，我们不会过分地纠结语义——这个词指的是语法中词和符号的含义——但是我们在后边终究绕不开它。\n",
    "\n",
    "来看一下后边这些例子："
   ]
  },
  {
   "cell_type": "code",
   "execution_count": 1,
   "metadata": {},
   "outputs": [
    {
     "name": "stdout",
     "output_type": "stream",
     "text": [
      "lower: [0, 1, 2, 3, 4]\n",
      "upper: [5, 6, 7, 8, 9]\n"
     ]
    }
   ],
   "source": [
    "# 给一个中间值 (midpoint) 赋值\n",
    "midpoint = 5\n",
    "\n",
    "# 创建两个空的列表 (list)\n",
    "lower = []; upper = []\n",
    "\n",
    "# 把数字分为大的一半和小的一半\n",
    "for i in range(10):\n",
    "    if (i < midpoint):\n",
    "        lower.append(i)\n",
    "    else:\n",
    "        upper.append(i)\n",
    "        \n",
    "print(\"lower:\", lower)\n",
    "print(\"upper:\", upper)"
   ]
  },
  {
   "cell_type": "markdown",
   "metadata": {},
   "source": [
    "这段代码看起来有点傻，但是在短短几句中就说明了 Python 语法中的重要部分。\n",
    "现在让我们一点点来看，探讨一下 Python 的语法特性。"
   ]
  },
  {
   "cell_type": "markdown",
   "metadata": {},
   "source": [
    "## 用 ``#`` 来标识注释\n",
    "这段脚本是由一句注释开始的：\n",
    "``` python\n",
    "# set the midpoint\n",
    "```\n",
    "在 Python 中，注释是用一个井字符（``#``）来表示的，一行中跟在井字符后边的东西都会被解释器忽略掉。比如，你可以像下边这样写一个注释：\n",
    "``` python\n",
    "x += 2  # shorthand for x = x + 2\n",
    "```\n",
    "虽然多行字符串经常被用作多行注释，但是要注意到 Python 没有类似  C 和 C++ 中使用的 ``/* ... */`` 的多行注释的语法。关于这个问题，可以看[字符串操作和正则表达式](14-Strings-and-Regular-Expressions.ipynb)。"
   ]
  },
  {
   "cell_type": "markdown",
   "metadata": {},
   "source": [
    "## 用换行截断语句\n",
    "The next line in the script is\n",
    "``` python\n",
    "midpoint = 5\n",
    "```\n",
    "这是一个赋值运算符。我们创建了一个叫做 ``midpoint`` 的变量，并且把它的值赋为 ``5``。\n",
    "注意到，在句子末尾我们简单地使用了换行来标识一行的结束。\n",
    "这和必须使用分号（``;``）结束一个句子的的 C 和 C++ 等语言正好相反。\n",
    "\n",
    "在 Python 中，如果你想要一个句子接在下一行，你可以使用“``\\``”来标识："
   ]
  },
  {
   "cell_type": "code",
   "execution_count": 2,
   "metadata": {
    "collapsed": true
   },
   "outputs": [],
   "source": [
    "x = 1 + 2 + 3 + 4 +\\\n",
    "    5 + 6 + 7 + 8"
   ]
  },
  {
   "cell_type": "markdown",
   "metadata": {},
   "source": [
    "用一对括号把一句话括起来也可以让一个表达式换行："
   ]
  },
  {
   "cell_type": "code",
   "execution_count": 3,
   "metadata": {
    "collapsed": true
   },
   "outputs": [],
   "source": [
    "x = (1 + 2 + 3 + 4 +\n",
    "     5 + 6 + 7 + 8)"
   ]
  },
  {
   "cell_type": "markdown",
   "metadata": {},
   "source": [
    "大部分的 Python 代码风格指南建议第二种方法（使用括号）。"
   ]
  },
  {
   "cell_type": "markdown",
   "metadata": {},
   "source": [
    "## 分号可以用于截断一个语句\n",
    "有时候把多个语句放到同一行中是很好的用法。\n",
    "就像下边这一句代码：\n",
    "``` python\n",
    "lower = []; upper = []\n",
    "```\n",
    "这里展示了如何像 C 语言中那样在 Python 中使用分号把两个语句放到同一行里。\n",
    "\n",
    "从功能上讲，下边这种写法和上边是等价的：\n",
    "``` python\n",
    "lower = []\n",
    "upper = []\n",
    "```\n",
    "即使这种使用方法带来了一定的便利，使用分号来把两个语句放到同一行中并不被大部分的 Python 代码风格指南推荐。"
   ]
  },
  {
   "cell_type": "markdown",
   "metadata": {},
   "source": [
    "## 缩进：空白字符很重要！\n",
    "下边，让我们来看看代码里主要的部分：\n",
    "``` Python\n",
    "for i in range(10):\n",
    "    if i < midpoint:\n",
    "        lower.append(i)\n",
    "    else:\n",
    "        upper.append(i)\n",
    "```\n",
    "\n",
    "这是一个复合的控制流语句，它包含了一个循环和一个条件语句————我们等一下再来讨论这两种语句。\n",
    "现在，先来看看下边展示出的可能是 Python 语法中最重要的一个特性：空白字符是有意义的！\n",
    "\n",
    "在编程语言中，一个*代码块 (block) *指的是可以看作一个单元的几个语句的集合。\n",
    "比如，在 C 语言中，代码块被大括号包裹起来：\n",
    "``` C\n",
    "// C code\n",
    "for(int i=0; i<100; i++)\n",
    "   {\n",
    "      // curly braces indicate code block\n",
    "      total += i;\n",
    "   }\n",
    "```\n",
    "在 Python 中，代码块使用*缩进 (indentation) *来标识：\n",
    "``` python\n",
    "for i in range(100):\n",
    "    # indentation indicates code block\n",
    "    total += i\n",
    "```\n",
    "在 Python 中，缩进的代码块的前面经常有上一行末尾的一个冒号（``:``）"
   ]
  },
  {
   "cell_type": "markdown",
   "metadata": {},
   "source": [
    "使用缩进可以强制规范出一种在大多数 Python 代码中统一的、可读性高的代码风格。\n",
    "但是也可能让初学者觉得很困惑，后边两个代码片段会产生不同的结果：\n",
    "```python\n",
    ">>> if x < 4:         >>> if x < 4:\n",
    "...     y = x * 2     ...     y = x * 2\n",
    "...     print(x)      ... print(x)\n",
    "```\n",
    "左边的代码片段中，``print(x)`` 是在缩进块里边, 所以只有 ``x`` 小于 ``4`` 的时候才会被执行。\n",
    "\n",
    "右边的代码片段中，``print(x)`` 是在缩进块外边, 所以不管 ``x`` 的值为多少都会被执行！"
   ]
  },
  {
   "cell_type": "markdown",
   "metadata": {},
   "source": [
    "一些习惯其他编程语言的程序员对 Python 中有意义的空白字符很惊讶，但是从实践中来看，这样可以比那些不强制缩进的语言有更好的可读性和风格的一致性。\n",
    "如果你觉得使用 Python 的空白字符很不舒服，我建议你去尝试一下，你会发现你逐渐适应它。\n",
    "最后，您应该注意到，用于缩进代码块的空格的*数量*取决于用户，只要它在整个脚本中是一致的就好。\n",
    "按照惯例，大多数风格指南都建议将代码块缩进四个空格，这是本书中将遵循的约定。\n",
    "请注意，许多文本编辑器（如Emacs和Vim）都包含对 Python 代码自动进行四个空格缩进的功能。"
   ]
  },
  {
   "cell_type": "markdown",
   "metadata": {},
   "source": [
    "## 行中的空白字符是无意义的\n",
    "虽然在*行（代码块）之前的空格*中是有意义的，但 Python 代码的行内的空格并不重要。\n",
    "例如，这三个表达式是等价的："
   ]
  },
  {
   "cell_type": "code",
   "execution_count": 4,
   "metadata": {
    "collapsed": true
   },
   "outputs": [],
   "source": [
    "x=1+2\n",
    "x = 1 + 2\n",
    "x             =        1    +                2"
   ]
  },
  {
   "cell_type": "markdown",
   "metadata": {},
   "source": [
    "滥用这种灵活性可能会导致代码可读性的问题 - 实际上滥用空白字符通常是故意混淆的代码的主要手段之一。\n",
    "有效地使用空白可以让代码可读性更好。\n",
    "特别是在操作符相连的情况下 - 比较以下两个求幂的表达式：\n",
    "``` python\n",
    "x=10**-2\n",
    "```\n",
    "to\n",
    "``` python\n",
    "x = 10 ** -2\n",
    "```\n",
    "我觉得一眼看过去第二个版本更容易读懂。\n",
    "大多是的风格指南都推荐在双目运算符前后各加一个空格，在单目运算符前后不加空格。\n",
    "Most Python style guides recommend using a single space around binary operators, and no space around unary operators.\n",
    "我们会在[Python 基础语义: 运算符](04-Semantics-Operators.ipynb)中继续讨论 Python 的运算符."
   ]
  },
  {
   "cell_type": "markdown",
   "metadata": {},
   "source": [
    "## 小括号用在表达式的分组或者函数调用中\n",
    "\n",
    "在前面的代码片段中，我们看到两种使用小括号的方式。\n",
    "首先，小括号可以用在为表达式或者数学运算的分组中："
   ]
  },
  {
   "cell_type": "code",
   "execution_count": 5,
   "metadata": {},
   "outputs": [
    {
     "data": {
      "text/plain": [
       "14"
      ]
     },
     "execution_count": 5,
     "metadata": {},
     "output_type": "execute_result"
    }
   ],
   "source": [
    "2 * (3 + 4)"
   ]
  },
  {
   "cell_type": "markdown",
   "metadata": {},
   "source": [
    "小括号还可以用于*函数*被调用的时候。\n",
    "在下面的代码片段中， ``print()`` 函数被用于显示一个变量的内容。\n",
    "下边是用一对小括号把函数的*参数*括起来，表示讲这些参数传入这个函数来调用它。"
   ]
  },
  {
   "cell_type": "code",
   "execution_count": 6,
   "metadata": {},
   "outputs": [
    {
     "name": "stdout",
     "output_type": "stream",
     "text": [
      "first value: 1\n"
     ]
    }
   ],
   "source": [
    "print('first value:', 1)"
   ]
  },
  {
   "cell_type": "code",
   "execution_count": 7,
   "metadata": {},
   "outputs": [
    {
     "name": "stdout",
     "output_type": "stream",
     "text": [
      "second value: 2\n"
     ]
    }
   ],
   "source": [
    "print('second value:', 2)"
   ]
  },
  {
   "cell_type": "markdown",
   "metadata": {},
   "source": [
    "有的函数可以没有参数，这时候也必须使用小括号来表示调用这个函数。\n",
    "这里有一个使用列表的 ``sort`` 方法的例子。"
   ]
  },
  {
   "cell_type": "code",
   "execution_count": 8,
   "metadata": {},
   "outputs": [
    {
     "name": "stdout",
     "output_type": "stream",
     "text": [
      "[1, 2, 3, 4]\n"
     ]
    }
   ],
   "source": [
    "L = [4,2,3,1]\n",
    "L.sort()\n",
    "print(L)"
   ]
  },
  {
   "cell_type": "markdown",
   "metadata": {},
   "source": [
    "``sort`` 之后的\"``()``\" 表示函数被执行。即使不需要传入参数，括号也是必不可少的。"
   ]
  },
  {
   "cell_type": "markdown",
   "metadata": {},
   "source": [
    "## 旁注：关于 ``print()`` 的一点说明\n",
    "\n",
    "在上面我们是用了 ``print()``函数做例子，\n",
    "``print()`` 函数是 Python *2.x* 和 Python *3.x* 中变化的一部分。\n",
    "在 Python 2 里, ``print`` 表现得像一个表达式，你可以这样写：\n",
    "``` python\n",
    "# Python 2 才能这么做!\n",
    ">> print \"first value:\", 1\n",
    "first value: 1\n",
    "```\n",
    "由于各种原因，这门语言的开发者决定在 Python 3 中，``print()`` 应该成为一个函数，所以我们现在这么写：\n",
    "``` python\n",
    "# Python 3 only!\n",
    ">>> print(\"first value:\", 1)\n",
    "first value: 1\n",
    "```\n",
    "这是Python 2 和 3的不兼容的语法中的一条。\n",
    "在撰写本书时，通常会发现以两个版本的 Python 编写的示例。"
   ]
  },
  {
   "cell_type": "markdown",
   "metadata": {},
   "source": [
    "## 完成了这部分，让我们再学习一点东西\n",
    "\n",
    "这一章是对 Python 语法基本特征的一个很简单的探索。它的目的是当你在阅读后面的代码时，给你一个很好的参考框架。\n",
    "我们几次提到了“Python 风格指南”，它可以帮助团队以一致的风格编写代码。\n",
    "Python 中最广泛使用的风格指南称为 PEP8，可以在https://www.python.org/dev/peps/pep-0008/ 找到。\n",
    "当你开始编写大量的的Python代码时，阅读一下这个是很有用的！\n",
    "风格指南中包含许多 Python 大师的智慧，大多数建议不仅仅是简单的规范：它们是基于无数经验的建议，可以帮助你们避免代码中一些微妙的错误和bug。"
   ]
  },
  {
   "cell_type": "markdown",
   "metadata": {},
   "source": [
    "<!--NAVIGATION-->\n",
    "< [How to Run Python Code](01-How-to-Run-Python-Code.ipynb) | [Contents](Index.ipynb) | [Basic Python Semantics: Variables and Objects](03-Semantics-Variables.ipynb) >"
   ]
  }
 ],
 "metadata": {
  "anaconda-cloud": {},
  "kernelspec": {
   "display_name": "Python 3",
   "language": "python",
   "name": "python3"
  },
  "language_info": {
   "codemirror_mode": {
    "name": "ipython",
    "version": 3
   },
   "file_extension": ".py",
   "mimetype": "text/x-python",
   "name": "python",
   "nbconvert_exporter": "python",
   "pygments_lexer": "ipython3",
   "version": "3.6.2"
  }
 },
 "nbformat": 4,
 "nbformat_minor": 1
}
