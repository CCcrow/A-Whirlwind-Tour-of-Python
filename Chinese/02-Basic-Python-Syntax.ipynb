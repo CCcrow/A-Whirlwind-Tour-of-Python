{
 "cells": [
  {
   "cell_type": "markdown",
   "metadata": {},
   "source": [
    "*This notebook comes from [A Whirlwind Tour of Python](http://www.oreilly.com/programming/free/a-whirlwind-tour-of-python.csp) by Jake VanderPlas (OReilly Media, 2016). This content is licensed [CC0](https://github.com/jakevdp/WhirlwindTourOfPython/blob/master/LICENSE). The full notebook listing is available at https://github.com/jakevdp/WhirlwindTourOfPython.*"
   ]
  },
  {
   "cell_type": "markdown",
   "metadata": {},
   "source": [
    "<!--NAVIGATION-->\n",
    "< [How to Run Python Code](01-How-to-Run-Python-Code.ipynb) | [Contents](Index.ipynb) | [Basic Python Semantics: Variables and Objects](03-Semantics-Variables.ipynb) >"
   ]
  },
  {
   "cell_type": "markdown",
   "metadata": {},
   "source": [
    "# A Quick Tour of Python Language Syntax"
   ]
  },
  {
   "cell_type": "markdown",
   "metadata": {},
   "source": [
    "一开始 Python 是被当作一门用来教学的语言开发的，但是它的易用性和干净的语法让它被初学者和专家欢迎。\n",
    "\n",
    "\n",
    "Python 语法的简洁性导致一些人将其称为“可执行伪代码”，我自己的经验是，阅读和理解 Python 脚本比阅读类似的代码（例如 C）要容易得多。\n",
    "这里我们将开始讨论 Python 语法的主要特征。\n",
    "语法指的是语言的结构（即什么构成正确的程序）。\n",
    "在开始的时候，我们不会过分地纠结语义——这个词指的是语法中词和符号的含义——但是我们在后边终究绕不开它。\n",
    "\n",
    "来看一下后边这些例子："
   ]
  },
  {
   "cell_type": "code",
   "execution_count": 1,
   "metadata": {},
   "outputs": [
    {
     "name": "stdout",
     "output_type": "stream",
     "text": [
      "lower: [0, 1, 2, 3, 4]\n",
      "upper: [5, 6, 7, 8, 9]\n"
     ]
    }
   ],
   "source": [
    "# 给一个中间值 (midpoint) 赋值\n",
    "midpoint = 5\n",
    "\n",
    "# 创建两个空的列表 (list)\n",
    "lower = []; upper = []\n",
    "\n",
    "# 把数字分为大的一半和小的一半\n",
    "for i in range(10):\n",
    "    if (i < midpoint):\n",
    "        lower.append(i)\n",
    "    else:\n",
    "        upper.append(i)\n",
    "        \n",
    "print(\"lower:\", lower)\n",
    "print(\"upper:\", upper)"
   ]
  },
  {
   "cell_type": "markdown",
   "metadata": {},
   "source": [
    "这段代码看起来有点傻，但是在短短几句中就说明了 Python 语法中的重要部分。\n",
    "现在让我们一点点来看，探讨一下 Python 的语法特性。"
   ]
  },
  {
   "cell_type": "markdown",
   "metadata": {},
   "source": [
    "## 用 ``#`` 来标识注释\n",
    "这段脚本是由一句注释开始的：\n",
    "``` python\n",
    "# set the midpoint\n",
    "```\n",
    "在 Python 中，注释是用一个井字符（``#``）来表示的，一行中跟在井字符后边的东西都会被解释器忽略掉。比如，你可以像下边这样写一个注释：\n",
    "``` python\n",
    "x += 2  # shorthand for x = x + 2\n",
    "```\n",
    "虽然多行字符串经常被用作多行注释，但是要注意到 Python 没有类似  C 和 C++ 中使用的 ``/* ... */`` 的多行注释的语法。关于这个问题，可以看[字符串操作和正则表达式](14-Strings-and-Regular-Expressions.ipynb)。"
   ]
  },
  {
   "cell_type": "markdown",
   "metadata": {},
   "source": [
    "## 用换行截断语句\n",
    "The next line in the script is\n",
    "``` python\n",
    "midpoint = 5\n",
    "```\n",
    "这是一个赋值运算符。我们创建了一个叫做 ``midpoint`` 的变量，并且把它的值赋为 ``5``。\n",
    "注意到，在句子末尾我们简单地使用了换行来标识一行的结束。\n",
    "这和必须使用分号（``;``）结束一个句子的的 C 和 C++ 等语言正好相反。\n",
    "\n",
    "在 Python 中，如果你想要一个句子接在下一行，你可以使用“``\\``”来标识："
   ]
  },
  {
   "cell_type": "code",
   "execution_count": 2,
   "metadata": {
    "collapsed": true
   },
   "outputs": [],
   "source": [
    "x = 1 + 2 + 3 + 4 +\\\n",
    "    5 + 6 + 7 + 8"
   ]
  },
  {
   "cell_type": "markdown",
   "metadata": {},
   "source": [
    "用一对括号把一句话括起来也可以让一个表达式换行："
   ]
  },
  {
   "cell_type": "code",
   "execution_count": 3,
   "metadata": {
    "collapsed": true
   },
   "outputs": [],
   "source": [
    "x = (1 + 2 + 3 + 4 +\n",
    "     5 + 6 + 7 + 8)"
   ]
  },
  {
   "cell_type": "markdown",
   "metadata": {},
   "source": [
    "大部分的 Python 代码风格指南建议第二种方法（使用括号）。"
   ]
  },
  {
   "cell_type": "markdown",
   "metadata": {},
   "source": [
    "## 分号可以用于截断一个语句\n",
    "有时候把多个语句放到同一行中是很好的用法。\n",
    "就像下边这一句代码：\n",
    "``` python\n",
    "lower = []; upper = []\n",
    "```\n",
    "这里展示了如何像 C 语言中那样在 Python 中使用分号把两个语句放到同一行里。\n",
    "\n",
    "从功能上讲，下边这种写法和上边是等价的：\n",
    "``` python\n",
    "lower = []\n",
    "upper = []\n",
    "```\n",
    "即使这种使用方法带来了一定的便利，使用分号来把两个语句放到同一行中并不被大部分的 Python 代码风格指南推荐。"
   ]
  },
  {
   "cell_type": "markdown",
   "metadata": {},
   "source": [
    "## 缩进：空白字符很重要！\n",
    "下边，让我们来看看代码里主要的部分：\n",
    "``` Python\n",
    "for i in range(10):\n",
    "    if i < midpoint:\n",
    "        lower.append(i)\n",
    "    else:\n",
    "        upper.append(i)\n",
    "```\n",
    "\n",
    "这是一个复合的控制流语句，它包含了一个循环和一个条件语句————我们等一下再来讨论这两种语句。\n",
    "现在，先来看看下边展示出的可能是 Python 语法中最重要的一个特性：空白字符是有意义的！\n",
    "\n",
    "在编程语言中，一个*代码块 (block) *指的是可以看作一个单元的几个语句的集合。\n",
    "比如，在 C 语言中，代码块被大括号包裹起来：\n",
    "``` C\n",
    "// C code\n",
    "for(int i=0; i<100; i++)\n",
    "   {\n",
    "      // curly braces indicate code block\n",
    "      total += i;\n",
    "   }\n",
    "```\n",
    "在 Python 中，代码块使用*缩进 (indentation) *来标识：\n",
    "``` python\n",
    "for i in range(100):\n",
    "    # indentation indicates code block\n",
    "    total += i\n",
    "```\n",
    "在 Python 中，缩进的代码块的前面经常有上一行末尾的一个冒号（``:``）"
   ]
  },
  {
   "cell_type": "markdown",
   "metadata": {},
   "source": [
    "使用缩进可以强制规范出一种在大多数 Python 代码中统一的、可读性高的代码风格。\n",
    "但是也可能让初学者觉得很困惑，后边两个代码片段会产生不同的结果：\n",
    "```python\n",
    ">>> if x < 4:         >>> if x < 4:\n",
    "...     y = x * 2     ...     y = x * 2\n",
    "...     print(x)      ... print(x)\n",
    "```\n",
    "左边的代码片段中，``print(x)`` 是在缩进块里边, 所以只有 ``x`` 小于 ``4`` 的时候才会被执行。\n",
    "\n",
    "右边的代码片段中，``print(x)`` 是在缩进块外边, 所以不管 ``x`` 的值为多少都会被执行！"
   ]
  },
  {
   "cell_type": "markdown",
   "metadata": {},
   "source": [
    "Python's use of meaningful whitespace often is surprising to programmers who are accustomed to other languages, but in practice it can lead to much more consistent and readable code than languages that do not enforce indentation of code blocks.\n",
    "If you find Python's use of whitespace disagreeable, I'd encourage you to give it a try: as I did, you may find that you come to appreciate it.\n",
    "\n",
    "Finally, you should be aware that the *amount* of whitespace used for indenting code blocks is up to the user, as long as it is consistent throughout the script.\n",
    "By convention, most style guides recommend to indent code blocks by four spaces, and that is the convention we will follow in this report.\n",
    "Note that many text editors like Emacs and Vim contain Python modes that do four-space indentation automatically."
   ]
  },
  {
   "cell_type": "markdown",
   "metadata": {},
   "source": [
    "## Whitespace *Within* Lines Does Not Matter\n",
    "While the mantra of *meaningful whitespace* holds true for whitespace *before* lines (which indicate a code block), white space *within* lines of Python code does not matter.\n",
    "For example, all three of these expressions are equivalent:"
   ]
  },
  {
   "cell_type": "code",
   "execution_count": 4,
   "metadata": {
    "collapsed": true
   },
   "outputs": [],
   "source": [
    "x=1+2\n",
    "x = 1 + 2\n",
    "x             =        1    +                2"
   ]
  },
  {
   "cell_type": "markdown",
   "metadata": {},
   "source": [
    "Abusing this flexibility can lead to issues with code readibility – in fact, abusing white space is often one of the primary means of intentionally obfuscating code (which some people do for sport).\n",
    "Using whitespace effectively can lead to much more readable code, \n",
    "especially in cases where operators follow each other – compare the following two expressions for exponentiating by a negative number:\n",
    "``` python\n",
    "x=10**-2\n",
    "```\n",
    "to\n",
    "``` python\n",
    "x = 10 ** -2\n",
    "```\n",
    "I find the second version with spaces much more easily readable at a single glance.\n",
    "Most Python style guides recommend using a single space around binary operators, and no space around unary operators.\n",
    "We'll discuss Python's operators further in [Basic Python Semantics: Operators](04-Semantics-Operators.ipynb)."
   ]
  },
  {
   "cell_type": "markdown",
   "metadata": {},
   "source": [
    "## Parentheses Are for Grouping or Calling\n",
    "\n",
    "In the previous code snippet, we see two uses of parentheses.\n",
    "First, they can be used in the typical way to group statements or mathematical operations:"
   ]
  },
  {
   "cell_type": "code",
   "execution_count": 5,
   "metadata": {},
   "outputs": [
    {
     "data": {
      "text/plain": [
       "14"
      ]
     },
     "execution_count": 5,
     "metadata": {},
     "output_type": "execute_result"
    }
   ],
   "source": [
    "2 * (3 + 4)"
   ]
  },
  {
   "cell_type": "markdown",
   "metadata": {},
   "source": [
    "They can also be used to indicate that a *function* is being called.\n",
    "In the next snippet, the ``print()`` function is used to display the contents of a variable (see the sidebar).\n",
    "The function call is indicated by a pair of opening and closing parentheses, with the *arguments* to the function contained within:"
   ]
  },
  {
   "cell_type": "code",
   "execution_count": 6,
   "metadata": {},
   "outputs": [
    {
     "name": "stdout",
     "output_type": "stream",
     "text": [
      "first value: 1\n"
     ]
    }
   ],
   "source": [
    "print('first value:', 1)"
   ]
  },
  {
   "cell_type": "code",
   "execution_count": 7,
   "metadata": {},
   "outputs": [
    {
     "name": "stdout",
     "output_type": "stream",
     "text": [
      "second value: 2\n"
     ]
    }
   ],
   "source": [
    "print('second value:', 2)"
   ]
  },
  {
   "cell_type": "markdown",
   "metadata": {},
   "source": [
    "Some functions can be called with no arguments at all, in which case the opening and closing parentheses still must be used to indicate a function evaluation.\n",
    "An example of this is the ``sort`` method of lists:"
   ]
  },
  {
   "cell_type": "code",
   "execution_count": 8,
   "metadata": {},
   "outputs": [
    {
     "name": "stdout",
     "output_type": "stream",
     "text": [
      "[1, 2, 3, 4]\n"
     ]
    }
   ],
   "source": [
    "L = [4,2,3,1]\n",
    "L.sort()\n",
    "print(L)"
   ]
  },
  {
   "cell_type": "markdown",
   "metadata": {},
   "source": [
    "The \"``()``\" after ``sort`` indicates that the function should be executed, and is required even if no arguments are necessary."
   ]
  },
  {
   "cell_type": "markdown",
   "metadata": {},
   "source": [
    "## Aside: A Note on the ``print()`` Function\n",
    "\n",
    "Above we used the example of the ``print()`` function.\n",
    "The ``print()`` function is one piece that has changed between Python *2.x* and Python *3.x*. In Python 2, ``print`` behaved as a statement: that is, you could write\n",
    "``` python\n",
    "# Python 2 only!\n",
    ">> print \"first value:\", 1\n",
    "first value: 1\n",
    "```\n",
    "For various reasons, the language maintainers decided that in Python 3 ``print()`` should become a function, so we now write\n",
    "``` python\n",
    "# Python 3 only!\n",
    ">>> print(\"first value:\", 1)\n",
    "first value: 1\n",
    "```\n",
    "This is one of the many backward-incompatible constructs between Python 2 and 3.\n",
    "As of the writing of this book, it is common to find examples written in both versions of Python, and the presence of the ``print`` statement rather than the ``print()`` function is often one of the first signs that you're looking at Python 2 code."
   ]
  },
  {
   "cell_type": "markdown",
   "metadata": {},
   "source": [
    "## Finishing Up and Learning More\n",
    "\n",
    "This has been a very brief exploration of the essential features of Python syntax; its purpose is to give you a good frame of reference for when you're reading the code in later sections.\n",
    "Several times we've mentioned Python \"style guides\", which can help teams to write code in a consistent style.\n",
    "The most widely used style guide in Python is known as PEP8, and can be found at https://www.python.org/dev/peps/pep-0008/.\n",
    "As you begin to write more Python code, it would be useful to read through this!\n",
    "The style suggestions contain the wisdom of many Python gurus, and most suggestions go beyond simple pedantry: they are experience-based recommendations that can help avoid subtle mistakes and bugs in your code."
   ]
  },
  {
   "cell_type": "markdown",
   "metadata": {},
   "source": [
    "<!--NAVIGATION-->\n",
    "< [How to Run Python Code](01-How-to-Run-Python-Code.ipynb) | [Contents](Index.ipynb) | [Basic Python Semantics: Variables and Objects](03-Semantics-Variables.ipynb) >"
   ]
  }
 ],
 "metadata": {
  "anaconda-cloud": {},
  "kernelspec": {
   "display_name": "Python 3",
   "language": "python",
   "name": "python3"
  },
  "language_info": {
   "codemirror_mode": {
    "name": "ipython",
    "version": 3
   },
   "file_extension": ".py",
   "mimetype": "text/x-python",
   "name": "python",
   "nbconvert_exporter": "python",
   "pygments_lexer": "ipython3",
   "version": "3.5.2"
  }
 },
 "nbformat": 4,
 "nbformat_minor": 1
}
