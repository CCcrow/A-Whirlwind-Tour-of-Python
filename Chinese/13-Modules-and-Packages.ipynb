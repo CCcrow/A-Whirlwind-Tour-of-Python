{
 "cells": [
  {
   "cell_type": "markdown",
   "metadata": {},
   "source": [
    "*This notebook comes from [A Whirlwind Tour of Python](http://www.oreilly.com/programming/free/a-whirlwind-tour-of-python.csp) by Jake VanderPlas (OReilly Media, 2016). This content is licensed [CC0](https://github.com/jakevdp/WhirlwindTourOfPython/blob/master/LICENSE). The full notebook listing is available at https://github.com/jakevdp/WhirlwindTourOfPython.*"
   ]
  },
  {
   "cell_type": "markdown",
   "metadata": {},
   "source": [
    "<!--NAVIGATION-->\n",
    "< [Generators](12-Generators.ipynb) | [Contents](Index.ipynb) | [String Manipulation and Regular Expressions](14-Strings-and-Regular-Expressions.ipynb) >"
   ]
  },
  {
   "cell_type": "markdown",
   "metadata": {},
   "source": [
    "# 模块和包"
   ]
  },
  {
   "cell_type": "markdown",
   "metadata": {},
   "source": [
    "Python 有一个特性使其可以用于各种各样的任务，那就是“自带电池”（译者注：这里原文为 batteries included，可以理解为内置了许多功能，参见[PEP206](https://www.python.org/dev/peps/pep-0206/#id3)），也就是说，Python标准库包含了各种各样任务的有用工具。\n",
    "除此之外，还有一个广泛的第三方工具和软件包的生态系统，可提供更专业化的功能。\n",
    "我们来看看如何导入标准库模块，安装第三方模块的工具，以及如何制作自己的模块。"
   ]
  },
  {
   "cell_type": "markdown",
   "metadata": {},
   "source": [
    "## 导入模块：``import`` 语句\n",
    "\n",
    "为了加载内置和第三方模块，Python 提供了``import``语句。\n",
    "有几种方法可以使用这个语句，我们在这里简要介绍一下，从最推荐到最不推荐。"
   ]
  },
  {
   "cell_type": "markdown",
   "metadata": {},
   "source": [
    "### 显式模块导入\n",
    "\n",
    "模块的显式导入会在一个命名空间中预留模块的内容。\n",
    "然后，使用这个命名空间来引用它们的内容，命名空间加``.``加某个具体的内容。\n",
    "例如，这里我们将导入内置的``math``模块并计算pi的余弦值："
   ]
  },
  {
   "cell_type": "code",
   "execution_count": 1,
   "metadata": {},
   "outputs": [
    {
     "data": {
      "text/plain": [
       "-1.0"
      ]
     },
     "execution_count": 1,
     "metadata": {},
     "output_type": "execute_result"
    }
   ],
   "source": [
    "import math\n",
    "math.cos(math.pi)"
   ]
  },
  {
   "cell_type": "markdown",
   "metadata": {},
   "source": [
    "### 使用重命名的显式模块导入\n",
    "\n",
    "对于更长的模块名称，每次访问某个元素时，使用完整模块名称并不方便。\n",
    "因此，我们通常会使用 ``import ... as ...`` 来为命名空间创建一个较短的别名。\n",
    "例如，NumPy（Numerical Python）软件包，一种在数据科学领域很受欢迎的第三方软件包，按照惯例使用别名``np``导入："
   ]
  },
  {
   "cell_type": "code",
   "execution_count": 2,
   "metadata": {},
   "outputs": [
    {
     "data": {
      "text/plain": [
       "-1.0"
      ]
     },
     "execution_count": 2,
     "metadata": {},
     "output_type": "execute_result"
    }
   ],
   "source": [
    "import numpy as np\n",
    "np.cos(np.pi)"
   ]
  },
  {
   "cell_type": "markdown",
   "metadata": {},
   "source": [
    "### 显式导入模块中的内容\n",
    "\n",
    "有时，而不是导入模块命名空间，您只想从模块导入一些特定的项目。\n",
    "这可以通过 ``from ... import ...`` 来完成。\n",
    "例如，我们可以从``math``模块导入``cos``函数和``pi``常量"
   ]
  },
  {
   "cell_type": "code",
   "execution_count": 3,
   "metadata": {},
   "outputs": [
    {
     "data": {
      "text/plain": [
       "-1.0"
      ]
     },
     "execution_count": 3,
     "metadata": {},
     "output_type": "execute_result"
    }
   ],
   "source": [
    "from math import cos, pi\n",
    "cos(pi)"
   ]
  },
  {
   "cell_type": "markdown",
   "metadata": {},
   "source": [
    "### 隐式导入模块中的内容\n",
    "\n",
    "最后，有时候也可以将整个模块内容导入本地命名空间。\n",
    "这可以通过``from ... import *`` 来完成："
   ]
  },
  {
   "cell_type": "code",
   "execution_count": 4,
   "metadata": {},
   "outputs": [
    {
     "data": {
      "text/plain": [
       "1.0"
      ]
     },
     "execution_count": 4,
     "metadata": {},
     "output_type": "execute_result"
    }
   ],
   "source": [
    "from math import *\n",
    "sin(pi) ** 2 + cos(pi) ** 2"
   ]
  },
  {
   "cell_type": "markdown",
   "metadata": {},
   "source": [
    "这种模式应该谨慎使用。\n",
    "问题是这样的导入有时可能会覆盖你不想覆盖的函数名称，并且隐式语句使得很难确定是那些被更改了。\n",
    "\n",
    "例如，Python具有内置的“sum”功能，可用于各种操作："
   ]
  },
  {
   "cell_type": "code",
   "execution_count": 5,
   "metadata": {},
   "outputs": [
    {
     "name": "stdout",
     "output_type": "stream",
     "text": [
      "Help on built-in function sum in module builtins:\n",
      "\n",
      "sum(...)\n",
      "    sum(iterable[, start]) -> value\n",
      "    \n",
      "    Return the sum of an iterable of numbers (NOT strings) plus the value\n",
      "    of parameter 'start' (which defaults to 0).  When the iterable is\n",
      "    empty, return start.\n",
      "\n"
     ]
    }
   ],
   "source": [
    "help(sum) "
   ]
  },
  {
   "cell_type": "markdown",
   "metadata": {},
   "source": [
    "我们可以用这个从某个指定的值为初始值计算一个序列的和，在这里我们从``-1``开始："
   ]
  },
  {
   "cell_type": "code",
   "execution_count": 6,
   "metadata": {},
   "outputs": [
    {
     "data": {
      "text/plain": [
       "9"
      ]
     },
     "execution_count": 6,
     "metadata": {},
     "output_type": "execute_result"
    }
   ],
   "source": [
    "sum(range(5), -1)"
   ]
  },
  {
   "cell_type": "markdown",
   "metadata": {},
   "source": [
    "现在观察如果我们在从 ``numpy`` 隐式导入后进行完全相同的函数调用会发生什么："
   ]
  },
  {
   "cell_type": "code",
   "execution_count": 7,
   "metadata": {},
   "outputs": [],
   "source": [
    "from numpy import *"
   ]
  },
  {
   "cell_type": "code",
   "execution_count": 8,
   "metadata": {},
   "outputs": [
    {
     "data": {
      "text/plain": [
       "10"
      ]
     },
     "execution_count": 8,
     "metadata": {},
     "output_type": "execute_result"
    }
   ],
   "source": [
    "sum(range(5), -1)"
   ]
  },
  {
   "cell_type": "markdown",
   "metadata": {},
   "source": [
    "结果相差了1。\n",
    "这样的原因是``import *``statement *用``numpy.sum``函数替换了内置的``sum``函数：在前者中，我们 ``sum（5）``从``-1``开始对``range(5)``求和， 在后者中，我们沿着最后一个轴（用``-1``表示）对``range(5)``求和。\n",
    "这是使用``import *``时不注意的情况 - 为此，除非你确切知道你在做什么，不然的话最好避免这种情况，"
   ]
  },
  {
   "cell_type": "markdown",
   "metadata": {},
   "source": [
    "## 从 Python 标准库中导入\n",
    "\n",
    "Python 的标准库包含很多内置的模块，你可以在这里看到它的完整说明 [Python's documentation](https://docs.python.org/3/library/).\n",
    "它们都可以使用 ``import`` 语句导入，然后还可以使用前边一节出现的``help``功能来查看帮助。\n",
    "以下是一个您可能希望了解的一些模块的不完全列表：\n",
    "- ``os`` 和 ``sys``：与操作系统交互的工具，包括文件目录间的导航和执行shell命令\n",
    "- ``math`` 和 ``cmath``： 数学功能和对实数和复数的操作\n",
    "- ``itertools``：使用迭代器(iterators) 和构造器(generators)的工具\n",
    "- ``functools``：函数式编程的工具\n",
    "- ``random``：产生随机数的工具\n",
    "- ``pickle``： 对象序列化的工具：保存对象或者从磁盘中读取对象\n",
    "- ``json`` 和 ``csv``：读取 JSON 格式和 CSV 格式文件的工具\n",
    "- ``urllib``: 进行 HTTP 和其他网络请求的工具\n",
    "\n",
    "您可以在Python标准库文档中找到更多信息：https://docs.python.org/3/library/."
   ]
  },
  {
   "cell_type": "markdown",
   "metadata": {},
   "source": [
    "## 导入第三方模块\n",
    "\n",
    "第三方模块的生态系统使 Python 十分好用，这一点在数据科学领域表现得最为明显。\n",
    "这些模块可以想内置模块一样导入，当然前提是你在你的系统中已经安装好了它们。\n",
    "\n",
    "这些模块的标准来源是 Python软件包索引（*PyPI*），网址为http://pypi.python.org/ 。\n",
    "为了更方便地使用，Python 提供了一个叫做 ``pip`` 的程序（pip installs packages的递归缩写），它可以自动在PyPI上获取包的releas版本。（如果你是用的 Python 2的话， ``pip`` 需要另外安装一下）。\n",
    "\n",
    "比如，如果你想安装我写的 ``supersmoother`` 包，你只需要敲下下边的命令：\n",
    "```\n",
    "$ pip install supersmoother\n",
    "```\n",
    "这个包的源代码会被自动地从 PyPI 仓库下载下来，并且安装在 Python 标准路径下（我们假定你拥有在你使用的电脑上做这些的权限）。\n",
    "\n",
    "对于 PyPI和 ``pip`` 安装器的更多信息，可以查看这里的文档 http://pypi.python.org/ 。"
   ]
  },
  {
   "cell_type": "markdown",
   "metadata": {},
   "source": [
    "<!--NAVIGATION-->\n",
    "< [Generators](12-Generators.ipynb) | [Contents](Index.ipynb) | [String Manipulation and Regular Expressions](14-Strings-and-Regular-Expressions.ipynb) >"
   ]
  }
 ],
 "metadata": {
  "anaconda-cloud": {},
  "kernelspec": {
   "display_name": "Python 3",
   "language": "python",
   "name": "python3"
  },
  "language_info": {
   "codemirror_mode": {
    "name": "ipython",
    "version": 3
   },
   "file_extension": ".py",
   "mimetype": "text/x-python",
   "name": "python",
   "nbconvert_exporter": "python",
   "pygments_lexer": "ipython3",
   "version": "3.6.2"
  }
 },
 "nbformat": 4,
 "nbformat_minor": 1
}
