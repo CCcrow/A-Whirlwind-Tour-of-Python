{
 "cells": [
  {
   "cell_type": "markdown",
   "metadata": {},
   "source": [
    "# Python 介绍\n",
    "\n",
    "在 20 世纪 80 年代后期，Python 作为一种适合教学使用的脚本语言，已经成为学术界和工业界的许多程序员，工程师，研究人员和数据科学家们必不可少的工具。\n",
    "作为一名专注于构建和推广适合数据密集型科学研究的开放工具的天文学家，我发现 Python 几乎可以完美的解决我每天遇到的各种类型的问题。无论是说从大量天文数据中抽取出有意义的信息、在网络上爬取数据并进行清洗，还是说将一些日常的工作自动化。\n",
    "\n",
    "Python 的魅力在于它的语法简洁但不失优雅，以及它那可在不同领域都发挥作用的庞大的生态环境所带来的便利。\n",
    "比如，大部分使用在科学计算和数据科学的 Python 代码都使用到了几种功能强大的成熟的第三方*包 (package)*：\n",
    "\n",
    "- [NumPy](http://numpy.org)：提供了对多维数据矩阵的高效计算和存储。\n",
    "- [SciPy](http://scipy.org)：包含一系列数字工具，比如数值积分和插值计算。\n",
    "- [Pandas](http://pandas.pydata.org)：提供了一个数据帧对象以及一组强大的方法来处理、过滤、分组和转换数据。\n",
    "- [Matplotlib](http://matplotlib.org)：提供了创建高品质的数据图表的接口。\n",
    "- [Scikit-Learn](http://scikit-learn.org)：提供了一个用于常用机器学习算法的通用工具包。\n",
    "- [IPython/Jupyter](http://jupyter.org)：提供一种交互式笔记本环境，对于科研分析以及创建交互式可执行文档非常有用。例如，这本书的手稿完全由 Jupyter Notebook 这个工具写成。\n",
    "\n",
    "在这种情况下，其他工具包也没有什么必要了，如果你需要完成一个科学分析或者数据分析的任务，一般来讲都会有人已经写了这样的一个工具。\n",
    "\n",
    "为了能更好的感受到Python在数据科学领域的力量，首先要熟悉Python的语法。\n",
    "我常常注意到那些有着其他编程语言背景（比如 MATLAB、IDL、R、Java 和 C++ 等）的学生和同事们一直在寻找一份简洁且全面的 Python 教程，他们希望这份教程能符合他们的水平而不是一份从零开始的语言教学。\n",
    "\n",
    "这本书的定位就是这样。\n",
    "就这样，这本书不是为了全面地介绍编程，也不是一个完整de Python 语言说明（如果你对此有需求，可以看看16章的推荐列表：[学习资源](16-Further-Resources.ipynb)）。\n",
    "相对的，这本书为你提供了一场 Python 的旋风之旅，它涉及到 Python 的基础语法、语义、内置的数据类型和数据结构、函数定义、控制流语句和这门语言的其他方面。\n",
    "我的目标是读者顺着这本书走下去，打下坚实基础来探索数据科学。"
   ]
  },
  {
   "cell_type": "markdown",
   "metadata": {},
   "source": [
    "## 使用示例代码\n",
    "\n",
    "会使用到的一些补充资料（示例代码或者练习等）可以从这里下载：https://github.com/jakevdp/WhirlwindTourOfPython/ 。\n",
    "这本书能帮助你更好地完成你的工作。\n",
    "一般来讲，你可以把这本书里的示例代码使用在你的程序或者文档中。\n",
    "\n",
    "除非您复制代码中的重要部分，否则您不需要与我们联系。\n",
    "比如，使用这本书中的一些代码片段来写程序不需要许可。\n",
    "出售或者分发 O’Reilly 书中的代码构成的光盘需要许可。\n",
    "引用书中的内容或者示例代码来回答问题不需要许可。\n",
    "将本书中的大量示例代码写入产品文档中，需要获得许可。\n",
    "\n",
    "我们不强求您提供原书版权信息，但是会对此行为表示感激。\n",
    "一条版权信息通常包括书名、作者、出版社和ISBN码，比如：\n",
    "A Whirlwind Tour of Python by Jake VanderPlas (O’Reilly). Copyright 2016 O’Reilly Media, Inc., 978-1-491-96465-1。\n",
    "\n",
    "如果您觉得您使用代码示例不符合上述规定，请随时通过permissions@oreilly.com与我们联系。"
   ]
  },
  {
   "cell_type": "markdown",
   "metadata": {},
   "source": [
    "## 安装和练习的注意事项\n",
    "\n",
    "无论是使用Windows，Linux还是Mac OS X，安装Python和使用科学计算的库套件都非常简单。本节将概述配置你的环境时的一些注意事项。"
   ]
  },
  {
   "cell_type": "markdown",
   "metadata": {},
   "source": [
    "### Python 2 还是 Python 3\n",
    "\n",
    "这本书使用了 Python 3 的语法，其中包含与* 2.x *系列 Python 不兼容的语言增强功能。\n",
    "虽然Python 3.0在2008年首次发布，但采用率相对较慢，特别是在科学研究和 Web 开发领域。\n",
    "这主要是因为许多基本软件包和工具包需要一些时间才能与新的语言兼容。\n",
    "然而，自2014年初以来，数据科学的生态中最重要的工具的稳定版本已经与 Python 2 和3完全兼容，因此本书将使用较新的 Python 3 语法。\n",
    "即使是这种情况下，本书中绝大多数的代码片段也可以在Python 2中无需修改地运行：在使用Py2不兼容的语法的情况下，我将尽力明确地注明。"
   ]
  },
  {
   "cell_type": "markdown",
   "metadata": {},
   "source": [
    "### 使用 Conda 安装\n",
    "虽然有很多种方法安装 Python， 但是尤其你想使用上边提到的一些数据科学的工具时，我比较推荐这一个：Anaconda\n",
    "这里有 Anaconda 的两种发行版：\n",
    "\n",
    "- [Miniconda](http://conda.pydata.org/miniconda.html) 提供了一个 Python 解释器和一个命令行工具叫做``conda``，它能进行面向 Python 包的跨平台的包管理，就像 Linux 用户熟悉的``apt`` 或者 ``yum``。\n",
    "- [Anaconda](https://www.continuum.io/downloads) 包括 Python 和``conda``，以及可添加的科学计算套件。\n",
    "\n",
    "Anaconda 所包含的包都可以手动地安装在 Miniconda 中，出于这个原因，我推荐从 Miniconda 开始。\n",
    "\n",
    "下载并安装 Miniconda 包，确保你选择了 Python 3 版本，然后安装 IPython notebook 包：\n",
    "```\n",
    "[~]$ conda install ipython-notebook\n",
    "```\n",
    "想获得关于``conda``的信息，比如创建或者使用 conda 环境，请查看上边给出的 Miniconda 链接。"
   ]
  },
  {
   "cell_type": "code",
   "execution_count": 2,
   "metadata": {},
   "outputs": [],
   "source": [
    "import this"
   ]
  },
  {
   "cell_type": "markdown",
   "metadata": {},
   "source": [
    "伴随着它们，让我们开始我们的 Python 之旅"
   ]
  },
  {
   "cell_type": "markdown",
   "metadata": {},
   "source": [
    "<!--NAVIGATION-->\n",
    "| [Contents](Index.ipynb) | [How to Run Python Code](01-How-to-Run-Python-Code.ipynb) >"
   ]
  }
 ],
 "metadata": {
  "anaconda-cloud": {},
  "kernelspec": {
   "display_name": "Python 3",
   "language": "python",
   "name": "python3"
  },
  "language_info": {
   "codemirror_mode": {
    "name": "ipython",
    "version": 3
   },
   "file_extension": ".py",
   "mimetype": "text/x-python",
   "name": "python",
   "nbconvert_exporter": "python",
   "pygments_lexer": "ipython3",
   "version": "3.6.1"
  }
 },
 "nbformat": 4,
 "nbformat_minor": 1
}
