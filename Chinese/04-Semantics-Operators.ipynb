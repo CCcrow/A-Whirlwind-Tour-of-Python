{
 "cells": [
  {
   "cell_type": "markdown",
   "metadata": {},
   "source": [
    "# 基础 Python 语法：运算符"
   ]
  },
  {
   "cell_type": "markdown",
   "metadata": {},
   "source": [
    "在之前的章节中我们学习了 Python 语法中关于变量和对象的知识。本章起我们将继续深入了解 Python 语法中不同的*运算符*。\n",
    "\n",
    "本章结束之时，你将有基本的工具来开始比较和操作 Python 中的数据。"
   ]
  },
  {
   "cell_type": "markdown",
   "metadata": {},
   "source": [
    "## 算术运算符\n",
    "Python 实现了7种基础二元算术运算符，在这其中的2种可以同时被用作一元运算符。\n",
    "\n",
    "下表总结了这7种运算符：\n",
    "\n",
    "| 运算符        | 名称     | 描述                      |\n",
    "| :--------- | ------ | ----------------------- |\n",
    "| ``a + b``  | 加      | ``a`` 与 ``b`` 求和        |\n",
    "| ``a - b``  | 减      | ``a`` 与 ``b`` 求差        |\n",
    "| ``a * b``  | 乘      | ``a`` 与 ``b`` 求积        |\n",
    "| ``a / b``  | 真除    | ``a`` 与 ``b`` 求商        |\n",
    "| ``a // b`` | 向下整除 | ``a`` 与 ``b`` 求商，去掉小数部分 |\n",
    "| ``a % b``  | 模      | ``a`` 与 ``b`` 取模        |\n",
    "| ``a ** b`` | 乘方     | ``a`` 的 ``b`` 次方        |\n",
    "| ``-a``     | 取反     | ``a`` 符号取反              |\n",
    "| ``+a``     | 一元加    | ``a`` 不变（极少使用）          |\n",
    "\n",
    "这些运算符可以直接按照直觉使用并组合，并且按照标准规范添加括号来规定计算的优先级。\n",
    "\n",
    "如："
   ]
  },
  {
   "cell_type": "code",
   "execution_count": 1,
   "metadata": {},
   "outputs": [
    {
     "data": {
      "text/plain": [
       "42.0"
      ]
     },
     "execution_count": 1,
     "metadata": {},
     "output_type": "execute_result"
    }
   ],
   "source": [
    "# 加、减、乘\n",
    "(4 + 8) * (6.5 - 3)"
   ]
  },
  {
   "cell_type": "markdown",
   "metadata": {},
   "source": [
    "向下整除是真除后去掉小数部分："
   ]
  },
  {
   "cell_type": "code",
   "execution_count": 2,
   "metadata": {},
   "outputs": [
    {
     "name": "stdout",
     "output_type": "stream",
     "text": [
      "5.5\n"
     ]
    }
   ],
   "source": [
    "# 真除\n",
    "print(11 / 2)"
   ]
  },
  {
   "cell_type": "code",
   "execution_count": 3,
   "metadata": {},
   "outputs": [
    {
     "name": "stdout",
     "output_type": "stream",
     "text": [
      "5\n"
     ]
    }
   ],
   "source": [
    "# 向下整除\n",
    "print(11 // 2)"
   ]
  },
  {
   "cell_type": "markdown",
   "metadata": {},
   "source": [
    "向下整除是在 Python 3 中添加的新运算符。你应当意识到在 Python 2 中标准除法运算符（``/``）对于整数来说执行的是向下整除，而对浮点数来说执行的是真除。\n",
    "\n",
    "最后我将提到 Python 3.5 中添加的第 8 个算术运算符：``a @ b``。这个运算符对 ``a`` 和 ``b`` 执行*矩阵乘法*，用于许多线性代数的扩展库。"
   ]
  },
  {
   "cell_type": "markdown",
   "metadata": {},
   "source": [
    "## 位运算符\n",
    "除了基本的算术运算符外，Python 还提供了对整数进行位逻辑运算的运算符。相比基本运算符，这些运算符更少使用，但是知道它们的存在是有用的。\n",
    "\n",
    "下表总结了 6 个位运算符：\n",
    "\n",
    "| 运算符        | 名称   | 描述                                   |\n",
    "| ---------- | ---- | ------------------------------------ |\n",
    "| ``a & b``  | 按位与  | ``a`` 与 ``b`` 全为 ` 1` 时为 `1`，否则为 `0` |\n",
    "| <code>a &#124; b</code>    | 按位或  | ``a`` 与 ``b`` 全为 ` 0` 时为 `0`，否则为 `1` |\n",
    "| ``a ^ b``  | 按位异或 | ``a`` 与 ``b`` 位相等时为 ` 0`，否则为 `1`     |\n",
    "| ``a << b`` | 按位左移 | ``a`` 左移 ``b`` 个单位                   |\n",
    "| ``a >> b`` | 按位右移 | ``a`` 右移 ``b`` 个单位                   |\n",
    "| ``~a``     | 按位非  | 对 ``a`` 按位取反                         |\n",
    "\n",
    "这些位运算符在仅仅对数字使用二进制表示才有意义。你可以使用内置的 ``bin`` 函数查看一个数的二进制表示。"
   ]
  },
  {
   "cell_type": "code",
   "execution_count": 4,
   "metadata": {},
   "outputs": [
    {
     "data": {
      "text/plain": [
       "'0b1010'"
      ]
     },
     "execution_count": 4,
     "metadata": {},
     "output_type": "execute_result"
    }
   ],
   "source": [
    "bin(10)"
   ]
  },
  {
   "cell_type": "markdown",
   "metadata": {},
   "source": [
    "上述结果均有一个 ``'0b'`` 前缀，表示这是一个二进制的表示。剩余的数字表明数字 $10$ 用 $1 \\cdot 2^3 + 0 \\cdot 2^2 + 1 \\cdot 2^1 + 0 \\cdot 2^0$ 的和表示出来了。\n",
    "类似地，我们可以输入："
   ]
  },
  {
   "cell_type": "code",
   "execution_count": 5,
   "metadata": {},
   "outputs": [
    {
     "data": {
      "text/plain": [
       "'0b100'"
      ]
     },
     "execution_count": 5,
     "metadata": {},
     "output_type": "execute_result"
    }
   ],
   "source": [
    "bin(4)"
   ]
  },
  {
   "cell_type": "markdown",
   "metadata": {},
   "source": [
    "现在，使用按位或运算，我们可以将 $4$ 和 $10$ 的位合并："
   ]
  },
  {
   "cell_type": "code",
   "execution_count": 6,
   "metadata": {},
   "outputs": [
    {
     "data": {
      "text/plain": [
       "14"
      ]
     },
     "execution_count": 6,
     "metadata": {},
     "output_type": "execute_result"
    }
   ],
   "source": [
    "4 | 10"
   ]
  },
  {
   "cell_type": "code",
   "execution_count": 7,
   "metadata": {},
   "outputs": [
    {
     "data": {
      "text/plain": [
       "'0b1110'"
      ]
     },
     "execution_count": 7,
     "metadata": {},
     "output_type": "execute_result"
    }
   ],
   "source": [
    "bin(4 | 10)"
   ]
  },
  {
   "cell_type": "markdown",
   "metadata": {},
   "source": [
    "这些按位运算符并不像基本算术运算符那样直接有用，但是至少我们需要知道它们来了解它们执行什么类型的操作。特别地，其他语言的用户有时希望使用异或运算符（即 ``a ^ b``）当他们真正需要表示乘方运算（即 ``a ** b``）。"
   ]
  },
  {
   "cell_type": "markdown",
   "metadata": {},
   "source": [
    "## 赋值运算符\n",
    "我们已经知道了变量可以使用赋值运算符（``=``）进行赋值，这时变量的值被存储下来以便于之后的使用。例如："
   ]
  },
  {
   "cell_type": "code",
   "execution_count": 8,
   "metadata": {},
   "outputs": [
    {
     "name": "stdout",
     "output_type": "stream",
     "text": [
      "24\n"
     ]
    }
   ],
   "source": [
    "a = 24\n",
    "print(a)"
   ]
  },
  {
   "cell_type": "markdown",
   "metadata": {},
   "source": [
    "我们可以在表达式中使用这些变量和之前提到的所有运算符。例如，如下的语句可以给 ``a`` 加上 $2$："
   ]
  },
  {
   "cell_type": "code",
   "execution_count": 9,
   "metadata": {},
   "outputs": [
    {
     "data": {
      "text/plain": [
       "26"
      ]
     },
     "execution_count": 9,
     "metadata": {},
     "output_type": "execute_result"
    }
   ],
   "source": [
    "a + 2"
   ]
  },
  {
   "cell_type": "markdown",
   "metadata": {},
   "source": [
    "我们可能需要将变量  ``a`` 更新为这个新的值。在这个情况下，我们可以将复制运算符和加法运算符合并起来：``a = a + 2``。因为这种将赋值运算符和算术运算符结合的操作非常普遍，Python 对所有算术运算符内置了如下更新运算符："
   ]
  },
  {
   "cell_type": "code",
   "execution_count": 10,
   "metadata": {},
   "outputs": [
    {
     "name": "stdout",
     "output_type": "stream",
     "text": [
      "26\n"
     ]
    }
   ],
   "source": [
    "a += 2  # 与 a = a + 2 等价\n",
    "print(a)"
   ]
  },
  {
   "cell_type": "markdown",
   "metadata": {},
   "source": [
    "对应于之前列出的所有二元运算符，Python 提供了扩展的赋值运算符。下表总结了它们：\n",
    "\n",
    "|||||\n",
    "|-|-|\n",
    "|``a += b``| ``a -= b``|``a *= b``| ``a /= b``|\n",
    "|``a //= b``| ``a %= b``|``a **= b``|``a &= b``|\n",
    "|<code>a &#124;= b</code>| ``a ^= b``|``a <<= b``| ``a >>= b``|\n",
    "\n",
    "表中每一个运算符都与进行完对应的算术运算后跟一个赋值运算等价。具体来说：对于任意运算符“``■``”，表达式 ``a ■= b`` 与 ``a = a ■ b`` 等价。\n",
    "对于可变对象，比如列表、数组或者数据帧，上述扩展的赋值运算符实际上与它们更复杂的对应的操作略有不同：它们直接修改原有对象的内容，而不是创建一个新的对象存储运算结果。"
   ]
  },
  {
   "cell_type": "markdown",
   "metadata": {},
   "source": [
    "## 比较运算符\n",
    "\n",
    "另一种非常有用的运算符是对不同的值进行比较。\n",
    "对于这个情况，Python 实现了标准的比较运算符，返回布尔值 ``True`` 和 ``False``。\n",
    "\n",
    "下表列出了所有的比较运算符：\n",
    "\n",
    "| 运算符        | 描述                 || 运算符        | 描述                |\n",
    "| ------------ | -------------------- || ---------- | ----------------- |\n",
    "|  ``a == b``  |  ``a`` 与 ``b`` 相等  || ``a != b`` | ``a`` 不等于 ``b``   |\n",
    "|  ``a < b``   |   ``a`` 小于 ``b``    || ``a > b``  | ``a`` 大于 ``b``    |\n",
    "|  ``a <= b``  | ``a`` 小于或等于 ``b`` || ``a >= b`` | ``a`` 大于或等于 ``b`` |\n",
    "\n",
    "这些比较运算符可以与算术运算符和位运算符任意组合来表达对数字几乎无限制的测试逻辑。\n",
    "例如，我们可以通过检查与 $2$ 的模是否返回 $1$来测试一个数字是否为奇数："
   ]
  },
  {
   "cell_type": "code",
   "execution_count": 11,
   "metadata": {},
   "outputs": [
    {
     "data": {
      "text/plain": [
       "True"
      ]
     },
     "execution_count": 11,
     "metadata": {},
     "output_type": "execute_result"
    }
   ],
   "source": [
    "# 25 is odd\n",
    "25 % 2 == 1"
   ]
  },
  {
   "cell_type": "code",
   "execution_count": 12,
   "metadata": {},
   "outputs": [
    {
     "data": {
      "text/plain": [
       "False"
      ]
     },
     "execution_count": 12,
     "metadata": {},
     "output_type": "execute_result"
    }
   ],
   "source": [
    "# 66 is odd\n",
    "66 % 2 == 1"
   ]
  },
  {
   "cell_type": "markdown",
   "metadata": {},
   "source": [
    "我们可以串联多重比较运算符来检查更复杂的关系："
   ]
  },
  {
   "cell_type": "code",
   "execution_count": 26,
   "metadata": {},
   "outputs": [
    {
     "data": {
      "text/plain": [
       "True"
      ]
     },
     "execution_count": 26,
     "metadata": {},
     "output_type": "execute_result"
    }
   ],
   "source": [
    "# 检查是否 a 属于区间 (15, 30)\n",
    "a = 25\n",
    "15 < a < 30"
   ]
  },
  {
   "cell_type": "markdown",
   "metadata": {},
   "source": [
    "之后，为了让你稍微头疼一点，来看看下面这个比较关系："
   ]
  },
  {
   "cell_type": "code",
   "execution_count": 14,
   "metadata": {},
   "outputs": [
    {
     "data": {
      "text/plain": [
       "True"
      ]
     },
     "execution_count": 14,
     "metadata": {},
     "output_type": "execute_result"
    }
   ],
   "source": [
    "-1 == ~0"
   ]
  },
  {
   "cell_type": "markdown",
   "metadata": {},
   "source": [
    "回忆一下， ``~`` 是按位取反运算符。显然，按位取反 $0$ 你将最后得到 $-1$。\n",
    "如果你对为什么是这样感到好奇，你可以查看*补码 (two's complement)* 整数编码方案。这是 Python 用来编码有符号整数的方案。思考一下，当你开始翻转所有以这种方式编码的整数位时会发生什么？"
   ]
  },
  {
   "cell_type": "markdown",
   "metadata": {},
   "source": [
    "## 布尔运算符\n",
    "当使用布尔值时，Python 提供了运算符使用“和”、“或”和“非”的标准概念组合布尔值。\n",
    "不出意外地，这些运算符直接使用单词 ``and``、 ``or`` 和 ``not`` 来表达："
   ]
  },
  {
   "cell_type": "code",
   "execution_count": 15,
   "metadata": {},
   "outputs": [
    {
     "data": {
      "text/plain": [
       "True"
      ]
     },
     "execution_count": 15,
     "metadata": {},
     "output_type": "execute_result"
    }
   ],
   "source": [
    "x = 4\n",
    "(x < 6) and (x > 2)"
   ]
  },
  {
   "cell_type": "code",
   "execution_count": 16,
   "metadata": {},
   "outputs": [
    {
     "data": {
      "text/plain": [
       "True"
      ]
     },
     "execution_count": 16,
     "metadata": {},
     "output_type": "execute_result"
    }
   ],
   "source": [
    "(x > 10) or (x % 2 == 0)"
   ]
  },
  {
   "cell_type": "code",
   "execution_count": 17,
   "metadata": {},
   "outputs": [
    {
     "data": {
      "text/plain": [
       "False"
      ]
     },
     "execution_count": 17,
     "metadata": {},
     "output_type": "execute_result"
    }
   ],
   "source": [
    "not (x < 6)"
   ]
  },
  {
   "cell_type": "markdown",
   "metadata": {},
   "source": [
    "布尔代数的狂热爱好者可能不会注意到异或运算符（XOR）并没有包括在内。达到异或的效果可以通过多种组合其他运算符的方式实现。\n",
    "否则，你可以使用下面这种聪明的小窍门实现布尔值的异或："
   ]
  },
  {
   "cell_type": "code",
   "execution_count": 18,
   "metadata": {},
   "outputs": [
    {
     "data": {
      "text/plain": [
       "False"
      ]
     },
     "execution_count": 18,
     "metadata": {},
     "output_type": "execute_result"
    }
   ],
   "source": [
    "# (x > 1) xor (x < 10)\n",
    "(x > 1) != (x < 10)"
   ]
  },
  {
   "cell_type": "markdown",
   "metadata": {},
   "source": [
    "当我们开始讨论*控制流语句 (control flow statements)*时（比如循环语句和分支语句），这些布尔运算符将会非常有用。\n",
    "\n",
    "一个较容易混淆的点在于什么时候使用布尔运算符（``and``，``or``，``not``），什么时候使用位运算符（``&``，``|``，``~``）。答案取决于它们的名字：布尔运算符应当在你需要对整个语句的**布尔值**（即，正确或者错误）进行计算时用到；而位运算符则应当在你需要对**单独的位或者不清楚对象的某个部分**进行操作时用到。"
   ]
  },
  {
   "cell_type": "markdown",
   "metadata": {},
   "source": [
    "## 相同和成员运算符\n",
    "\n",
    "就像 ``and``、``or`` 和 ``not`` 一样，Python 同样提供了像英语散文一样直接的运算符来检查相等和成员包含情况。下表总结了这些运算符：\n",
    "\n",
    "| 运算符         | 描述                            |\n",
    "|---------------|---------------------------------|\n",
    "| ``a is b``    | 当 ``a`` 和 ``b`` 为相同对象时为真 |\n",
    "| ``a is not b``| 当 ``a`` 和 ``b`` 为相同对象时为假 |\n",
    "| ``a in b``    | 当 ``a`` 是 ``b`` 的一个成员时为真 |\n",
    "| ``a not in b``| 当 ``a`` 是 ``b`` 的一个成员时为假 |"
   ]
  },
  {
   "cell_type": "markdown",
   "metadata": {},
   "source": [
    "### 相同运算符：“``is``”和“``is not``”\n",
    "\n",
    "相同运算符“``is``”和“``is not``”检查*对象相同 (object identity)*。\n",
    "对象相同与对象相等不同，我们可以在下列例子中看到："
   ]
  },
  {
   "cell_type": "code",
   "execution_count": 19,
   "metadata": {},
   "outputs": [],
   "source": [
    "a = [1, 2, 3]\n",
    "b = [1, 2, 3]"
   ]
  },
  {
   "cell_type": "code",
   "execution_count": 20,
   "metadata": {},
   "outputs": [
    {
     "data": {
      "text/plain": [
       "True"
      ]
     },
     "execution_count": 20,
     "metadata": {},
     "output_type": "execute_result"
    }
   ],
   "source": [
    "a == b"
   ]
  },
  {
   "cell_type": "code",
   "execution_count": 21,
   "metadata": {},
   "outputs": [
    {
     "data": {
      "text/plain": [
       "False"
      ]
     },
     "execution_count": 21,
     "metadata": {},
     "output_type": "execute_result"
    }
   ],
   "source": [
    "a is b"
   ]
  },
  {
   "cell_type": "code",
   "execution_count": 22,
   "metadata": {},
   "outputs": [
    {
     "data": {
      "text/plain": [
       "True"
      ]
     },
     "execution_count": 22,
     "metadata": {},
     "output_type": "execute_result"
    }
   ],
   "source": [
    "a is not b"
   ]
  },
  {
   "cell_type": "markdown",
   "metadata": {},
   "source": [
    "什么样才算是对象相同呢？下列例子说明了这个问题："
   ]
  },
  {
   "cell_type": "code",
   "execution_count": 23,
   "metadata": {},
   "outputs": [
    {
     "data": {
      "text/plain": [
       "True"
      ]
     },
     "execution_count": 23,
     "metadata": {},
     "output_type": "execute_result"
    }
   ],
   "source": [
    "a = [1, 2, 3]\n",
    "b = a\n",
    "a is b"
   ]
  },
  {
   "cell_type": "markdown",
   "metadata": {},
   "source": [
    "上述两个例子的区别在于：第一个例子中 ``a`` 和 ``b`` 指向了**不同的对象**，而第二个例子中，它们指向了**相同的对象**。\n",
    "如我们在上一节中看到的，Python 变量实际上是指针。“``is``” 运算符检查的是两个变量是否指向同一个容器（对象），而不是检查它们指向的容器中内容是否一致。头脑中有了这个概念，很多情况下初学者想要使用“``is``”，实际上他们大多真正意味着 ``==``。"
   ]
  },
  {
   "cell_type": "markdown",
   "metadata": {},
   "source": [
    "### 成员运算符\n",
    "成员运算符在复合对象中检查成员存在情况。比如，我们可以写："
   ]
  },
  {
   "cell_type": "code",
   "execution_count": 24,
   "metadata": {},
   "outputs": [
    {
     "data": {
      "text/plain": [
       "True"
      ]
     },
     "execution_count": 24,
     "metadata": {},
     "output_type": "execute_result"
    }
   ],
   "source": [
    "1 in [1, 2, 3]"
   ]
  },
  {
   "cell_type": "code",
   "execution_count": 25,
   "metadata": {},
   "outputs": [
    {
     "data": {
      "text/plain": [
       "False"
      ]
     },
     "execution_count": 25,
     "metadata": {},
     "output_type": "execute_result"
    }
   ],
   "source": [
    "2 not in [1, 2, 3]"
   ]
  },
  {
   "cell_type": "markdown",
   "metadata": {},
   "source": [
    "这些成员操作是让 Python 相比低级语言（如 C 语言）更容易使用的一个例子。\n",
    "在 C 语言中，成员的检查需要在列表中手动构造一个循环后检查每个元素是否相等来实现。而在 Python 中，你只需要像英文散文一样直接地键入你想要知道的就可以实现。"
   ]
  }
 ],
 "metadata": {
  "anaconda-cloud": {},
  "kernelspec": {
   "display_name": "Python 3",
   "language": "python",
   "name": "python3"
  },
  "language_info": {
   "codemirror_mode": {
    "name": "ipython",
    "version": 3
   },
   "file_extension": ".py",
   "mimetype": "text/x-python",
   "name": "python",
   "nbconvert_exporter": "python",
   "pygments_lexer": "ipython3",
   "version": "3.6.1"
  }
 },
 "nbformat": 4,
 "nbformat_minor": 1
}
