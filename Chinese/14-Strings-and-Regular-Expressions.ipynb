{
 "cells": [
  {
   "cell_type": "markdown",
   "metadata": {},
   "source": [
    "# 字符串处理和正则表达式"
   ]
  },
  {
   "cell_type": "markdown",
   "metadata": {},
   "source": [
    "Python 语言突出的一个特性是能对字符串的进行轻松的处理。\n",
    "在本章中，我们将会涉及 Python 内置的字符串处理函数以及字符串格式化操作。之后我们将会简略地介绍一个非常实用的主题——*正则表达式 (regular expressions)*。\n",
    "这种字符串处理的模式经常在数据科学的工作中出现，并且也是 Python 中非常活跃的一个主题。\n",
    "\n",
    "Python 中的字符串可以用单引号或者双引号成对引用来定义（从功能上说这两种是等价的）："
   ]
  },
  {
   "cell_type": "code",
   "execution_count": 1,
   "metadata": {},
   "outputs": [
    {
     "data": {
      "text/plain": [
       "True"
      ]
     },
     "execution_count": 1,
     "metadata": {},
     "output_type": "execute_result"
    }
   ],
   "source": [
    "x = 'a string'\n",
    "y = \"a string\"\n",
    "x == y"
   ]
  },
  {
   "cell_type": "markdown",
   "metadata": {},
   "source": [
    "除此之外，也可以用三重引号来定义跨行字符串："
   ]
  },
  {
   "cell_type": "code",
   "execution_count": 2,
   "metadata": {
    "collapsed": true
   },
   "outputs": [],
   "source": [
    "multiline = \"\"\"\n",
    "one\n",
    "two\n",
    "three\n",
    "\"\"\""
   ]
  },
  {
   "cell_type": "markdown",
   "metadata": {},
   "source": [
    "有了这些作为基础，我们来快速浏览一下 Python 中对字符串进行操作的一些工具。"
   ]
  },
  {
   "cell_type": "markdown",
   "metadata": {},
   "source": [
    "## Python 简易字符串操作\n",
    "\n",
    "对于字符串的基础操作，Python 内置的字符串处理函数极其地方便。\n",
    "如果你有一定的 C 语言或者其他低级语言的基础，你一定会觉得 Python 提供的这些函数非常简便。\n",
    "我们已经介绍了 Python 的字符串类型和一些字符串函数，在这一节中我们将会更加深入地介绍字符串处理的函数。"
   ]
  },
  {
   "cell_type": "markdown",
   "metadata": {},
   "source": [
    "### 字符串格式化：大小写转换\n",
    "\n",
    "Python 可以很容易地调整字符串的大小写。\n",
    "这里我们通过几个杂乱的例子来看一下 ``upper()``、``lower()``、``capitalize()``、``title()`` 和 ``swapcase()`` 这几个函数："
   ]
  },
  {
   "cell_type": "code",
   "execution_count": 3,
   "metadata": {
    "collapsed": true
   },
   "outputs": [],
   "source": [
    "fox = \"tHe qUICk bROWn fOx.\""
   ]
  },
  {
   "cell_type": "markdown",
   "metadata": {},
   "source": [
    "要将整个字符串转换为大写或者小写，你可以分别使用 ``upper()`` 和 ``lower()`` 函数："
   ]
  },
  {
   "cell_type": "code",
   "execution_count": 4,
   "metadata": {},
   "outputs": [
    {
     "data": {
      "text/plain": [
       "'THE QUICK BROWN FOX.'"
      ]
     },
     "execution_count": 4,
     "metadata": {},
     "output_type": "execute_result"
    }
   ],
   "source": [
    "fox.upper()"
   ]
  },
  {
   "cell_type": "code",
   "execution_count": 5,
   "metadata": {},
   "outputs": [
    {
     "data": {
      "text/plain": [
       "'the quick brown fox.'"
      ]
     },
     "execution_count": 5,
     "metadata": {},
     "output_type": "execute_result"
    }
   ],
   "source": [
    "fox.lower()"
   ]
  },
  {
   "cell_type": "markdown",
   "metadata": {},
   "source": [
    "一个常见格式化的需求是将字符串中每一个单词的首字母大写，或者每一个段落的首字母大写，这个时候你可以使用 ``title()`` 和 ``capitalize()`` 函数："
   ]
  },
  {
   "cell_type": "code",
   "execution_count": 6,
   "metadata": {},
   "outputs": [
    {
     "data": {
      "text/plain": [
       "'The Quick Brown Fox.'"
      ]
     },
     "execution_count": 6,
     "metadata": {},
     "output_type": "execute_result"
    }
   ],
   "source": [
    "fox.title()"
   ]
  },
  {
   "cell_type": "code",
   "execution_count": 7,
   "metadata": {},
   "outputs": [
    {
     "data": {
      "text/plain": [
       "'The quick brown fox.'"
      ]
     },
     "execution_count": 7,
     "metadata": {},
     "output_type": "execute_result"
    }
   ],
   "source": [
    "fox.capitalize()"
   ]
  },
  {
   "cell_type": "markdown",
   "metadata": {},
   "source": [
    "``swapcase()`` 函数可以将大小写颠倒："
   ]
  },
  {
   "cell_type": "code",
   "execution_count": 8,
   "metadata": {},
   "outputs": [
    {
     "data": {
      "text/plain": [
       "'ThE QuicK BrowN FoX.'"
      ]
     },
     "execution_count": 8,
     "metadata": {},
     "output_type": "execute_result"
    }
   ],
   "source": [
    "fox.swapcase()"
   ]
  },
  {
   "cell_type": "markdown",
   "metadata": {},
   "source": [
    "### 格式化字符串：添加和删除空格\n",
    "\n",
    "另一个常见的需要是在字符串的头部或者尾部删除空格（或者其他字符）。\n",
    "删除字符的基本方法是通过 ``strip()`` 函数，这个函数会将头部和尾部的空白字符删去："
   ]
  },
  {
   "cell_type": "code",
   "execution_count": 9,
   "metadata": {},
   "outputs": [
    {
     "data": {
      "text/plain": [
       "'this is the content'"
      ]
     },
     "execution_count": 9,
     "metadata": {},
     "output_type": "execute_result"
    }
   ],
   "source": [
    "line = '         this is the content         '\n",
    "line.strip()"
   ]
  },
  {
   "cell_type": "markdown",
   "metadata": {},
   "source": [
    "如果只需要删除右边或者左边的空格，可以分别使用 ``rstrip()`` 或 ``lstrip()``："
   ]
  },
  {
   "cell_type": "code",
   "execution_count": 10,
   "metadata": {},
   "outputs": [
    {
     "data": {
      "text/plain": [
       "'         this is the content'"
      ]
     },
     "execution_count": 10,
     "metadata": {},
     "output_type": "execute_result"
    }
   ],
   "source": [
    "line.rstrip()"
   ]
  },
  {
   "cell_type": "code",
   "execution_count": 11,
   "metadata": {},
   "outputs": [
    {
     "data": {
      "text/plain": [
       "'this is the content         '"
      ]
     },
     "execution_count": 11,
     "metadata": {},
     "output_type": "execute_result"
    }
   ],
   "source": [
    "line.lstrip()"
   ]
  },
  {
   "cell_type": "markdown",
   "metadata": {},
   "source": [
    "如果要删除的不是空格而是其他字符，向 ``strip()`` 函数传递你需要删除的字符作为参数："
   ]
  },
  {
   "cell_type": "code",
   "execution_count": 12,
   "metadata": {},
   "outputs": [
    {
     "data": {
      "text/plain": [
       "'435'"
      ]
     },
     "execution_count": 12,
     "metadata": {},
     "output_type": "execute_result"
    }
   ],
   "source": [
    "num = \"000000000000435\"\n",
    "num.strip('0')"
   ]
  },
  {
   "cell_type": "markdown",
   "metadata": {},
   "source": [
    "删除空格的反向操作可以通过 ``center()``、``ljust()`` 和 ``rjust()`` 三个函数实现。\n",
    "\n",
    "举例来说，我们可以使用 ``center()`` 函数来以一定数量的空格中心对齐一个给定的字符串："
   ]
  },
  {
   "cell_type": "code",
   "execution_count": 13,
   "metadata": {},
   "outputs": [
    {
     "data": {
      "text/plain": [
       "'     this is the content      '"
      ]
     },
     "execution_count": 13,
     "metadata": {},
     "output_type": "execute_result"
    }
   ],
   "source": [
    "line = \"this is the content\"\n",
    "line.center(30)"
   ]
  },
  {
   "cell_type": "markdown",
   "metadata": {},
   "source": [
    "类似地，``ljust()`` 和 ``rjust()`` 将会以一定长度的空格左对齐或者右对齐字符串："
   ]
  },
  {
   "cell_type": "code",
   "execution_count": 14,
   "metadata": {},
   "outputs": [
    {
     "data": {
      "text/plain": [
       "'this is the content           '"
      ]
     },
     "execution_count": 14,
     "metadata": {},
     "output_type": "execute_result"
    }
   ],
   "source": [
    "line.ljust(30)"
   ]
  },
  {
   "cell_type": "code",
   "execution_count": 15,
   "metadata": {},
   "outputs": [
    {
     "data": {
      "text/plain": [
       "'           this is the content'"
      ]
     },
     "execution_count": 15,
     "metadata": {},
     "output_type": "execute_result"
    }
   ],
   "source": [
    "line.rjust(30)"
   ]
  },
  {
   "cell_type": "markdown",
   "metadata": {},
   "source": [
    "除此以外，所有这些函数都支持以任意的字符填充空白。比如："
   ]
  },
  {
   "cell_type": "code",
   "execution_count": 16,
   "metadata": {},
   "outputs": [
    {
     "data": {
      "text/plain": [
       "'0000000435'"
      ]
     },
     "execution_count": 16,
     "metadata": {},
     "output_type": "execute_result"
    }
   ],
   "source": [
    "'435'.rjust(10, '0')"
   ]
  },
  {
   "cell_type": "markdown",
   "metadata": {},
   "source": [
    "因为填充 0 是一种常见需求，Python 也提供了 ``zfill()`` 函数。这个特殊的函数会在字符串左边填充一个全为“0”的字符串："
   ]
  },
  {
   "cell_type": "code",
   "execution_count": 17,
   "metadata": {},
   "outputs": [
    {
     "data": {
      "text/plain": [
       "'0000000435'"
      ]
     },
     "execution_count": 17,
     "metadata": {},
     "output_type": "execute_result"
    }
   ],
   "source": [
    "'435'.zfill(10)"
   ]
  },
  {
   "cell_type": "markdown",
   "metadata": {},
   "source": [
    "### 寻找和替换子字符串\n",
    "\n",
    "如果你需要查找一个特定字符在一个字符串出现的次数，Python 内置的 ``find()``/``rfind()``、``index()``/``rindex()`` 和 ``replace()`` 是最好的选择。\n",
    "\n",
    "``find()`` 和 ``index()`` 函数相似，他们都在一个字符串中搜索一个字符或者一个子串首次出现的情况，并且返回子串的索引："
   ]
  },
  {
   "cell_type": "code",
   "execution_count": 18,
   "metadata": {},
   "outputs": [
    {
     "data": {
      "text/plain": [
       "16"
      ]
     },
     "execution_count": 18,
     "metadata": {},
     "output_type": "execute_result"
    }
   ],
   "source": [
    "line = 'the quick brown fox jumped over a lazy dog'\n",
    "line.find('fox')"
   ]
  },
  {
   "cell_type": "code",
   "execution_count": 19,
   "metadata": {},
   "outputs": [
    {
     "data": {
      "text/plain": [
       "16"
      ]
     },
     "execution_count": 19,
     "metadata": {},
     "output_type": "execute_result"
    }
   ],
   "source": [
    "line.index('fox')"
   ]
  },
  {
   "cell_type": "markdown",
   "metadata": {},
   "source": [
    "``find()`` 和 ``index()`` 唯一的区别是当要搜索的字符串不存在时这两个函数的行为不同。``find()`` 返回 ``-1``，而 ``index()`` 将会抛出一个 ``ValueError`` 异常："
   ]
  },
  {
   "cell_type": "code",
   "execution_count": 20,
   "metadata": {},
   "outputs": [
    {
     "data": {
      "text/plain": [
       "-1"
      ]
     },
     "execution_count": 20,
     "metadata": {},
     "output_type": "execute_result"
    }
   ],
   "source": [
    "line.find('bear')"
   ]
  },
  {
   "cell_type": "code",
   "execution_count": 21,
   "metadata": {},
   "outputs": [
    {
     "ename": "ValueError",
     "evalue": "substring not found",
     "output_type": "error",
     "traceback": [
      "\u001b[0;31m---------------------------------------------------------------------------\u001b[0m",
      "\u001b[0;31mValueError\u001b[0m                                Traceback (most recent call last)",
      "\u001b[0;32m<ipython-input-21-4cbe6ee9b0eb>\u001b[0m in \u001b[0;36m<module>\u001b[0;34m()\u001b[0m\n\u001b[0;32m----> 1\u001b[0;31m \u001b[0mline\u001b[0m\u001b[0;34m.\u001b[0m\u001b[0mindex\u001b[0m\u001b[0;34m(\u001b[0m\u001b[0;34m'bear'\u001b[0m\u001b[0;34m)\u001b[0m\u001b[0;34m\u001b[0m\u001b[0m\n\u001b[0m",
      "\u001b[0;31mValueError\u001b[0m: substring not found"
     ]
    }
   ],
   "source": [
    "line.index('bear')"
   ]
  },
  {
   "cell_type": "markdown",
   "metadata": {},
   "source": [
    "与之相关的 ``rfind()`` 和 ``rindex()`` 函数与上面两个函数类似的，它们会从字符串尾部开始搜索第一次出现的子串，而不是从头部："
   ]
  },
  {
   "cell_type": "code",
   "execution_count": 22,
   "metadata": {},
   "outputs": [
    {
     "data": {
      "text/plain": [
       "35"
      ]
     },
     "execution_count": 22,
     "metadata": {},
     "output_type": "execute_result"
    }
   ],
   "source": [
    "line.rfind('a')"
   ]
  },
  {
   "cell_type": "markdown",
   "metadata": {},
   "source": [
    "对于字符串开头或结尾的子串的检查的特殊情况，Python 提供了两个函数 ``startswith()`` 和 ``endswith()``："
   ]
  },
  {
   "cell_type": "code",
   "execution_count": 23,
   "metadata": {},
   "outputs": [
    {
     "data": {
      "text/plain": [
       "True"
      ]
     },
     "execution_count": 23,
     "metadata": {},
     "output_type": "execute_result"
    }
   ],
   "source": [
    "line.endswith('dog')"
   ]
  },
  {
   "cell_type": "code",
   "execution_count": 24,
   "metadata": {},
   "outputs": [
    {
     "data": {
      "text/plain": [
       "False"
      ]
     },
     "execution_count": 24,
     "metadata": {},
     "output_type": "execute_result"
    }
   ],
   "source": [
    "line.startswith('fox')"
   ]
  },
  {
   "cell_type": "markdown",
   "metadata": {},
   "source": [
    "进一步地，你可以使用 ``replace()`` 函数将一个给定的子串替换为另外一个。\n",
    "在这里我们将 ``'brown'`` 替换为 ``'red'``："
   ]
  },
  {
   "cell_type": "code",
   "execution_count": 25,
   "metadata": {},
   "outputs": [
    {
     "data": {
      "text/plain": [
       "'the quick red fox jumped over a lazy dog'"
      ]
     },
     "execution_count": 25,
     "metadata": {},
     "output_type": "execute_result"
    }
   ],
   "source": [
    "line.replace('brown', 'red')"
   ]
  },
  {
   "cell_type": "markdown",
   "metadata": {},
   "source": [
    "``replace()`` 函数返回一个新的字符串，并且会替换输入中的所有出现的字符串：returns a new string, and will replace all occurrences of the input:"
   ]
  },
  {
   "cell_type": "code",
   "execution_count": 26,
   "metadata": {},
   "outputs": [
    {
     "data": {
      "text/plain": [
       "'the quick br--wn f--x jumped --ver a lazy d--g'"
      ]
     },
     "execution_count": 26,
     "metadata": {},
     "output_type": "execute_result"
    }
   ],
   "source": [
    "line.replace('o', '--')"
   ]
  },
  {
   "cell_type": "markdown",
   "metadata": {},
   "source": [
    "对于 ``replace()`` 函数的更为灵活的用法，请参阅后面关于正则表达式的讨论：[使用正则表达式灵活地匹配字符串模式](#使用正则表达式灵活地匹配字符串模式)。"
   ]
  },
  {
   "cell_type": "markdown",
   "metadata": {},
   "source": [
    "### 拆分和分割字符串\n",
    "\n",
    "如果您需要寻找一个子串，**然后**在子串的位置进行字符串分割，``partition()`` 和/或 ``split()`` 函数是你需要寻找的解决方法、\n",
    "这两个函数都会返回一个子串序列。\n",
    "\n",
    "``partition()`` 函数返回一个三个元素的元祖：在待寻找的子串第一次出现的位置（拆分位置）之前的子字符串、拆分位置本身以及后面的子字符串："
   ]
  },
  {
   "cell_type": "code",
   "execution_count": 27,
   "metadata": {
    "scrolled": true
   },
   "outputs": [
    {
     "data": {
      "text/plain": [
       "('the quick brown ', 'fox', ' jumped over a lazy dog')"
      ]
     },
     "execution_count": 27,
     "metadata": {},
     "output_type": "execute_result"
    }
   ],
   "source": [
    "line.partition('fox')"
   ]
  },
  {
   "cell_type": "markdown",
   "metadata": {},
   "source": [
    "``rpartition()`` 函数与之类似，但是是从右往左搜索字符串。\n",
    "\n",
    "``split()`` 函数可能更加实用。这个函数寻找**所有**分割位置的实例并且返回它们之间的子串。\n",
    "默认调用这个函数时它以任意空白字符作为分割的依据，返回一个包含字符串中的所有单词的列表："
   ]
  },
  {
   "cell_type": "code",
   "execution_count": 28,
   "metadata": {},
   "outputs": [
    {
     "data": {
      "text/plain": [
       "['the', 'quick', 'brown', 'fox', 'jumped', 'over', 'a', 'lazy', 'dog']"
      ]
     },
     "execution_count": 28,
     "metadata": {},
     "output_type": "execute_result"
    }
   ],
   "source": [
    "line.split()"
   ]
  },
  {
   "cell_type": "markdown",
   "metadata": {},
   "source": [
    "与之相关的一个函数是 ``splitlines()``，它对换行符进行分割。\n",
    "让我们对 17 世纪著名的俳句诗人松尾芭蕉（Matsuo Bashō）的一首俳句进行分割："
   ]
  },
  {
   "cell_type": "code",
   "execution_count": 29,
   "metadata": {},
   "outputs": [
    {
     "data": {
      "text/plain": [
       "['matsushima-ya', 'aah matsushima-ya', 'matsushima-ya']"
      ]
     },
     "execution_count": 29,
     "metadata": {},
     "output_type": "execute_result"
    }
   ],
   "source": [
    "haiku = \"\"\"matsushima-ya\n",
    "aah matsushima-ya\n",
    "matsushima-ya\"\"\"\n",
    "\n",
    "haiku.splitlines()"
   ]
  },
  {
   "cell_type": "markdown",
   "metadata": {},
   "source": [
    "注意到，如果你希望撤销 ``split()`` 的结果，你可以使用 ``join()`` 函数，这个函数将返回一个由一个分割位置和一个可迭代对象组成的字符串："
   ]
  },
  {
   "cell_type": "code",
   "execution_count": 30,
   "metadata": {},
   "outputs": [
    {
     "data": {
      "text/plain": [
       "'1--2--3'"
      ]
     },
     "execution_count": 30,
     "metadata": {},
     "output_type": "execute_result"
    }
   ],
   "source": [
    "'--'.join(['1', '2', '3'])"
   ]
  },
  {
   "cell_type": "markdown",
   "metadata": {},
   "source": [
    "一个常见的模式是使用换行符 ``\"\\n\"`` 来连接之前分割过的字符串，这样可以恢复原始输入："
   ]
  },
  {
   "cell_type": "code",
   "execution_count": 31,
   "metadata": {},
   "outputs": [
    {
     "name": "stdout",
     "output_type": "stream",
     "text": [
      "matsushima-ya\n",
      "aah matsushima-ya\n",
      "matsushima-ya\n"
     ]
    }
   ],
   "source": [
    "print(\"\\n\".join(['matsushima-ya', 'aah matsushima-ya', 'matsushima-ya']))"
   ]
  },
  {
   "cell_type": "markdown",
   "metadata": {},
   "source": [
    "## 字符串格式化\n",
    "\n",
    "在对上述函数的讨论中，我们已经学会了如何从字符串中提取值，并对字符串进行操作，转换为需要的格式。\n",
    "另外一个字符串函数的使用是对字符串其他类型的值的*表示 (representations)*进行操作。\n",
    "当然，字符串表示总是可以通过 ``str()`` 函数建立，比如："
   ]
  },
  {
   "cell_type": "code",
   "execution_count": 32,
   "metadata": {},
   "outputs": [
    {
     "data": {
      "text/plain": [
       "'3.14159'"
      ]
     },
     "execution_count": 32,
     "metadata": {},
     "output_type": "execute_result"
    }
   ],
   "source": [
    "pi = 3.14159\n",
    "str(pi)"
   ]
  },
  {
   "cell_type": "markdown",
   "metadata": {},
   "source": [
    "对于更加复杂的格式，你可以使用之前章节 [基础 Python 语法：运算符](04-Semantics-Operators.ipynb) 中概述过的字符串的算术运算符："
   ]
  },
  {
   "cell_type": "code",
   "execution_count": 33,
   "metadata": {},
   "outputs": [
    {
     "data": {
      "text/plain": [
       "'The value of pi is 3.14159'"
      ]
     },
     "execution_count": 33,
     "metadata": {},
     "output_type": "execute_result"
    }
   ],
   "source": [
    "\"The value of pi is \" + str(pi)"
   ]
  },
  {
   "cell_type": "markdown",
   "metadata": {},
   "source": [
    "一个更加灵活的方法是使用*格式化字符串 (format strings)*。这是由花括号表示的特殊标记组成的字符串，代表将要插入字符串格式化后的值。\n",
    "这里有一个简单的例子："
   ]
  },
  {
   "cell_type": "code",
   "execution_count": 34,
   "metadata": {},
   "outputs": [
    {
     "data": {
      "text/plain": [
       "'The value of pi is 3.14159'"
      ]
     },
     "execution_count": 34,
     "metadata": {},
     "output_type": "execute_result"
    }
   ],
   "source": [
    "\"The value of pi is {}\".format(pi)"
   ]
  },
  {
   "cell_type": "markdown",
   "metadata": {},
   "source": [
    "在 ``{}`` 标记内部你也可以包括希望在那里出现的确切的信息。如果你包括了一个数字，它指向的是带插入的参数的索引："
   ]
  },
  {
   "cell_type": "code",
   "execution_count": 35,
   "metadata": {},
   "outputs": [
    {
     "data": {
      "text/plain": [
       "'First letter: A. Last letter: Z.'"
      ]
     },
     "execution_count": 35,
     "metadata": {},
     "output_type": "execute_result"
    }
   ],
   "source": [
    "\"\"\"First letter: {0}. Last letter: {1}.\"\"\".format('A', 'Z')"
   ]
  },
  {
   "cell_type": "markdown",
   "metadata": {},
   "source": [
    "如果你在大括号中包括了一个字符串，它会指向任何关键字参数的键："
   ]
  },
  {
   "cell_type": "code",
   "execution_count": 36,
   "metadata": {},
   "outputs": [
    {
     "data": {
      "text/plain": [
       "'First letter: A. Last letter: Z.'"
      ]
     },
     "execution_count": 36,
     "metadata": {},
     "output_type": "execute_result"
    }
   ],
   "source": [
    "\"\"\"First letter: {first}. Last letter: {last}.\"\"\".format(last='Z', first='A')"
   ]
  },
  {
   "cell_type": "markdown",
   "metadata": {},
   "source": [
    "最后，对于数字的输入，你可以包括格式化代码来控制数字转换为字符串的格式。\n",
    "比如，打印一个小数点后保留 3 位的浮点数，你可以使用如下格式化字符串："
   ]
  },
  {
   "cell_type": "code",
   "execution_count": 37,
   "metadata": {},
   "outputs": [
    {
     "data": {
      "text/plain": [
       "'pi = 3.142'"
      ]
     },
     "execution_count": 37,
     "metadata": {},
     "output_type": "execute_result"
    }
   ],
   "source": [
    "\"pi = {0:.3f}\".format(pi)"
   ]
  },
  {
   "cell_type": "markdown",
   "metadata": {},
   "source": [
    "像之前讨论的那样，这里的“``0``”指的是将要插入的参数的索引。\n",
    "“``:``”标记了后面将会跟着格式化代码。\n",
    "“``.3f``”编码了需要的精度信息：小数点后保留 3 位小数的浮点数。\n",
    "\n",
    "这种指明格式化的风格非常灵活，我们在这里举的例子还不足以介绍全部的字符串格式化的语法。对于更多信息，请查阅 Python 在线文档中[字符串格式化格式说明](https://docs.python.org/3/library/string.html#formatspec)一节。"
   ]
  },
  {
   "cell_type": "markdown",
   "metadata": {},
   "source": [
    "## 使用正则表达式灵活地匹配字符串模式\n",
    "\n",
    "Python 的 ``str`` 类型给你提供了一系列强大的字符串格式化、分割和操作字符串数据的函数。但是 Python 还有更强大的工具，这就是*正则表达式 (regular expression)* 模块。\n",
    "正则表达式是一个很庞大的话题。有许多书整本都是围绕这个话题进行展开（比如 Jeffrey E.F. Friedl 的 [精通正则表达式 (OReilly, 2006)](http://shop.oreilly.com/product/9780596528126.do)），因此在短短一节内讲完全部的知识是非常困难的。\n",
    "本节我的目标是介绍一些可以通过正则表达式解决的问题，以及一些如何在 Python 中解决它们的基本的方法。\n",
    "在本章最后，我将为之后的学习提供一些参考资料，请参阅[关于正则表达式的更多资源](#关于正则表达式的更多资源)。\n",
    "\n",
    "从根本上说，正则表达式是一种解决在字符串中进行灵活的模式匹配的方法。如果你经常使用命令行，你可能会对带“``*``”字符进行灵活的字符串匹配有印象。在这里“``*``”是一个*通配符 (wildcard)*。举例来说，我们可以列出所有文件名中带有 “Python” 的 IPython 记事本（即带有 *.ipynb* 扩展名的文件），这可以通过使用“``*``”通配符来匹配文件名中的其他字符："
   ]
  },
  {
   "cell_type": "code",
   "execution_count": 38,
   "metadata": {},
   "outputs": [
    {
     "name": "stdout",
     "output_type": "stream",
     "text": [
      "01-How-to-Run-Python-Code.ipynb 02-Basic-Python-Syntax.ipynb\r\n"
     ]
    }
   ],
   "source": [
    "!ls *Python*.ipynb"
   ]
  },
  {
   "cell_type": "markdown",
   "metadata": {},
   "source": [
    "正则表达式扩展了“通配符”这一个概念，形成了一套更广泛的灵活字符串匹配的语法。\n",
    "Python 支持正则表达式的接口存在在内置的 ``re`` 模块中。我们首先来举一个简单的例子，这个例子实现了和字符串 ``split()`` 函数相同的功能："
   ]
  },
  {
   "cell_type": "code",
   "execution_count": 39,
   "metadata": {},
   "outputs": [
    {
     "data": {
      "text/plain": [
       "['the', 'quick', 'brown', 'fox', 'jumped', 'over', 'a', 'lazy', 'dog']"
      ]
     },
     "execution_count": 39,
     "metadata": {},
     "output_type": "execute_result"
    }
   ],
   "source": [
    "import re\n",
    "regex = re.compile('\\s+')\n",
    "regex.split(line)"
   ]
  },
  {
   "cell_type": "markdown",
   "metadata": {},
   "source": [
    "在这里，我们首先*编译 (compile)* 了一个正则表达式，然后用它来分割字符串。\n",
    "和 Python 的 ``split()`` 函数一样，它返回了一个包含所有空格之间的子串的列表，正则表达式的 ``split()`` 函数返回了一个包含所有匹配给定输入模式串的子串的列表。\n",
    "\n",
    "在这个例子中，输入串是 ``\"\\s+\"``：其中“``\\s``”是一个特殊的字符，它匹配了所有空白字符（包含空格、TAB、换行符等等），“``+``”指明了在它前面的实体出现**一次或多次**。\n",
    "因此，上述正则表达式匹配了任何包含一个或多个空格的子串。\n",
    "\n",
    "在这里 ``split()`` 函数基本上是一个基于这种*模式匹配 (pattern matching)*行为的简便函数。更加基础的则是 ``match()`` 函数，这个函数会告诉你一个字符串的开头是否匹配了模式串："
   ]
  },
  {
   "cell_type": "code",
   "execution_count": 40,
   "metadata": {},
   "outputs": [
    {
     "name": "stdout",
     "output_type": "stream",
     "text": [
      "(\"'     '\", 'matches')\n",
      "(\"'abc  '\", 'does not match')\n",
      "(\"'  abc'\", 'matches')\n"
     ]
    }
   ],
   "source": [
    "for s in [\"     \", \"abc  \", \"  abc\"]:\n",
    "    if regex.match(s):\n",
    "        print(repr(s), \"matches\")\n",
    "    else:\n",
    "        print(repr(s), \"does not match\")"
   ]
  },
  {
   "cell_type": "markdown",
   "metadata": {},
   "source": [
    "像 ``split()`` 一样，Python 有类似的方便的函数来寻找首次匹配（类似 ``str.index()`` 或 ``str.find()``）或者寻找后匹配（类似 ``str.replace()``）。\n",
    "我们会再次使用之前用过的这行字符串："
   ]
  },
  {
   "cell_type": "code",
   "execution_count": 41,
   "metadata": {
    "collapsed": true
   },
   "outputs": [],
   "source": [
    "line = 'the quick brown fox jumped over a lazy dog'"
   ]
  },
  {
   "cell_type": "markdown",
   "metadata": {},
   "source": [
    "有了这行字符串，我们可以来看看 ``regex.search()`` 函数的行为非常像 ``str.index()`` 或 ``str.find()`` 函数："
   ]
  },
  {
   "cell_type": "code",
   "execution_count": 42,
   "metadata": {},
   "outputs": [
    {
     "data": {
      "text/plain": [
       "16"
      ]
     },
     "execution_count": 42,
     "metadata": {},
     "output_type": "execute_result"
    }
   ],
   "source": [
    "line.index('fox')"
   ]
  },
  {
   "cell_type": "code",
   "execution_count": 43,
   "metadata": {},
   "outputs": [
    {
     "data": {
      "text/plain": [
       "16"
      ]
     },
     "execution_count": 43,
     "metadata": {},
     "output_type": "execute_result"
    }
   ],
   "source": [
    "regex = re.compile('fox')\n",
    "match = regex.search(line)\n",
    "match.start()"
   ]
  },
  {
   "cell_type": "markdown",
   "metadata": {},
   "source": [
    "类似地，``regex.sub()`` 函数的行为很像 ``str.replace()``："
   ]
  },
  {
   "cell_type": "code",
   "execution_count": 44,
   "metadata": {},
   "outputs": [
    {
     "data": {
      "text/plain": [
       "'the quick brown BEAR jumped over a lazy dog'"
      ]
     },
     "execution_count": 44,
     "metadata": {},
     "output_type": "execute_result"
    }
   ],
   "source": [
    "line.replace('fox', 'BEAR')"
   ]
  },
  {
   "cell_type": "code",
   "execution_count": 45,
   "metadata": {},
   "outputs": [
    {
     "data": {
      "text/plain": [
       "'the quick brown BEAR jumped over a lazy dog'"
      ]
     },
     "execution_count": 45,
     "metadata": {},
     "output_type": "execute_result"
    }
   ],
   "source": [
    "regex.sub('BEAR', line)"
   ]
  },
  {
   "cell_type": "markdown",
   "metadata": {},
   "source": [
    "你可能会有一点这样的想法：其他简单的字符串操作也可以转换为正则表达式进行操作。"
   ]
  },
  {
   "cell_type": "markdown",
   "metadata": {},
   "source": [
    "### 一个更加复杂的操作\n",
    "\n",
    "但是，你可能会稳，为什么要用这种相对来说更复杂、更啰嗦的正则表达式语法，而不是用更符合直觉、更简单的字符串操作呢？\n",
    "正则表达式的优点是它提供的**远不止**灵活性这么简单。\n",
    "\n",
    "这里我们将会再考虑一个更加复杂的例子：一个非常常见的任务——匹配电子邮件地址。\n",
    "我将从粗暴地写一个难以理解的正则表达式开始，然后一步一步地理解其中的内涵。这个复杂的表达式如下："
   ]
  },
  {
   "cell_type": "code",
   "execution_count": 46,
   "metadata": {
    "collapsed": true
   },
   "outputs": [],
   "source": [
    "email = re.compile('\\w+@\\w+\\.[a-z]{3}')"
   ]
  },
  {
   "cell_type": "markdown",
   "metadata": {},
   "source": [
    "如果从文档中有一行文字，那么你可以使用这个正则表达式迅速提取看上去像电子邮件地址的内容："
   ]
  },
  {
   "cell_type": "code",
   "execution_count": 47,
   "metadata": {},
   "outputs": [
    {
     "data": {
      "text/plain": [
       "['guido@python.org', 'guido@google.com']"
      ]
     },
     "execution_count": 47,
     "metadata": {},
     "output_type": "execute_result"
    }
   ],
   "source": [
    "text = \"To email Guido, try guido@python.org or the older address guido@google.com.\"\n",
    "email.findall(text)"
   ]
  },
  {
   "cell_type": "markdown",
   "metadata": {},
   "source": [
    "（请注意，这些地址完全是瞎编的。也许有更好的方法与 Guido 取得联系……）\n",
    "\n",
    "我们可以进一步做更多的操作，比如将这些电子邮件地址替换为其他的字符串，可以达到在输出中隐藏地址，保护个人信息的作用："
   ]
  },
  {
   "cell_type": "code",
   "execution_count": 48,
   "metadata": {},
   "outputs": [
    {
     "data": {
      "text/plain": [
       "'To email Guido, try --@--.-- or the older address --@--.--.'"
      ]
     },
     "execution_count": 48,
     "metadata": {},
     "output_type": "execute_result"
    }
   ],
   "source": [
    "email.sub('--@--.--', text)"
   ]
  },
  {
   "cell_type": "markdown",
   "metadata": {},
   "source": [
    "最后，请注意，如果你真的需要匹配**任意**电子邮件地址，之前这个正则表达式太过于简单了。比如，它只允许由数字和字母组成的地址，并且要求以常见的几个域名后缀结尾。因此，举例来说，我们目前使用的时候只是意味着我们暂时只能找到符合要求地址的一部分："
   ]
  },
  {
   "cell_type": "code",
   "execution_count": 49,
   "metadata": {},
   "outputs": [
    {
     "data": {
      "text/plain": [
       "['obama@whitehouse.gov']"
      ]
     },
     "execution_count": 49,
     "metadata": {},
     "output_type": "execute_result"
    }
   ],
   "source": [
    "email.findall('barack.obama@whitehouse.gov')"
   ]
  },
  {
   "cell_type": "markdown",
   "metadata": {},
   "source": [
    "这个例子表明如果你不小心的话，一个错误的正则表达式将带来不可饶恕的错误！如果你在互联网上进行查找，你会找到不少匹配**全部**合法电子邮件地址的正则表达式的建议，但是需要小心：他们比这里用到的例子要复杂太多！"
   ]
  },
  {
   "cell_type": "markdown",
   "metadata": {},
   "source": [
    "### 正则表达式语法基础\n",
    "\n",
    "正则表达式的语法比本节讨论的要复杂许多。我仍然认为熟悉一部分能够给今后的学习打下基础。因此我将在这里介绍一些基本的结构，然后列出一些更完整的资源，从中你可以了解更多信息。我希望下面的这个初学者入门指引能使你高效地利用这些资源。"
   ]
  },
  {
   "cell_type": "markdown",
   "metadata": {},
   "source": [
    "#### 简单的字符串直接匹配\n",
    "\n",
    "如果你直接用简单的字母或者数字构建正则表达式的话，它会直接精确匹配对应的字符串："
   ]
  },
  {
   "cell_type": "code",
   "execution_count": 50,
   "metadata": {},
   "outputs": [
    {
     "data": {
      "text/plain": [
       "['ion']"
      ]
     },
     "execution_count": 50,
     "metadata": {},
     "output_type": "execute_result"
    }
   ],
   "source": [
    "regex = re.compile('ion')\n",
    "regex.findall('Great Expectations')"
   ]
  },
  {
   "cell_type": "markdown",
   "metadata": {},
   "source": [
    "#### 一些字符有特殊含义\n",
    "\n",
    "尽管一些字符或者数字是直接匹配的，有一些字符在正则表达式里是有特殊含义的。它们是：\n",
    "```\n",
    ". ^ $ * + ? { } [ ] \\ | ( )\n",
    "```\n",
    "我们马上会开始讨论其中一些字符的含义。同时，你需要知道如果你希望直接匹配这其中任何一个字符，你可以使用一个反斜线*转义 (escape)*它们："
   ]
  },
  {
   "cell_type": "code",
   "execution_count": 51,
   "metadata": {},
   "outputs": [
    {
     "data": {
      "text/plain": [
       "['$']"
      ]
     },
     "execution_count": 51,
     "metadata": {},
     "output_type": "execute_result"
    }
   ],
   "source": [
    "regex = re.compile(r'\\$')\n",
    "regex.findall(\"the cost is $20\")"
   ]
  },
  {
   "cell_type": "markdown",
   "metadata": {},
   "source": [
    "``r'\\$'`` 的 ``r`` 前缀表明这是一个*原始字符串 (raw string)*。在 Python 标准字符串中，反斜线用来表示特殊的字符。举例来说，TAB 制表符是用“``\\t``”来代表的："
   ]
  },
  {
   "cell_type": "code",
   "execution_count": 52,
   "metadata": {},
   "outputs": [
    {
     "name": "stdout",
     "output_type": "stream",
     "text": [
      "a\tb\tc\n"
     ]
    }
   ],
   "source": [
    "print('a\\tb\\tc')"
   ]
  },
  {
   "cell_type": "markdown",
   "metadata": {},
   "source": [
    "这样的替换不会在原始字符串中进行："
   ]
  },
  {
   "cell_type": "code",
   "execution_count": 53,
   "metadata": {},
   "outputs": [
    {
     "name": "stdout",
     "output_type": "stream",
     "text": [
      "a\\tb\\tc\n"
     ]
    }
   ],
   "source": [
    "print(r'a\\tb\\tc')"
   ]
  },
  {
   "cell_type": "markdown",
   "metadata": {},
   "source": [
    "基于这样一种原因考虑，无论何时在正则表达式中使用反斜杠，最好使用原始字符串。"
   ]
  },
  {
   "cell_type": "markdown",
   "metadata": {},
   "source": [
    "#### 特殊字符可以匹配字符组\n",
    "\n",
    "就像在正则表达式中“``\\``”字符可以转义特殊的字符，使它们变成普通的字符，它也可以用来赋予普通字符意义。这些特殊的字符可以匹配指定的字符组，我们已经见到了它们的作用。在电子邮件匹配的正则表达式中，我们使用“``\\w``”标记匹配**任意数字或者字母**。类似地，在简单的 ``split()`` 例子中，我们也见到了“``\\s``”，这是一个特殊的标记，匹配**任意空白字符**。\n",
    "\n",
    "把这些组合在一起，我们可以构造一个匹配**任何两个字母/数字之间有空格**字符串的正则表达式："
   ]
  },
  {
   "cell_type": "code",
   "execution_count": 54,
   "metadata": {},
   "outputs": [
    {
     "data": {
      "text/plain": [
       "['e f', 'x i', 's 9', 's o']"
      ]
     },
     "execution_count": 54,
     "metadata": {},
     "output_type": "execute_result"
    }
   ],
   "source": [
    "regex = re.compile(r'\\w\\s\\w')\n",
    "regex.findall('the fox is 9 years old')"
   ]
  },
  {
   "cell_type": "markdown",
   "metadata": {},
   "source": [
    "这个例子开始正则表达式的强大和灵活性渐渐开始显现。"
   ]
  },
  {
   "cell_type": "markdown",
   "metadata": {},
   "source": [
    "下表列出了一些通常比较有用的字符和它们对应的意义：\n",
    "\n",
    "|    字符    | 描述                        ||    字符    | 描述                             |\n",
    "|-----------|-----------------------------||-----------|---------------------------------|\n",
    "| ``\\d``  | 匹配任意数字                    ||  ``\\D``   | 匹配任意非数字                     |\n",
    "| ``\\s``  | 匹配任意空白字符                 ||  ``\\S``   | 匹配任意非空白字符                 |\n",
    "| ``\\w``  | 匹配任意字母和数字               ||  ``\\W``   | 匹配任意非字母和数字                |\n",
    "\n",
    "这个表格并**不是**一个完整的例子，也不没有提供完整的描述。如果需要获得更多细节，请查阅 Python 官方[正则表达式语法文档](https://docs.python.org/3/library/re.html#re-syntax)。"
   ]
  },
  {
   "cell_type": "markdown",
   "metadata": {},
   "source": [
    "#### 方括号匹配自定义字符组\n",
    "\n",
    "如果内置的字符组不能满足你的定制需求，你可以使用方括号来指定任意字符的集合。举例来说，下列正则表达式可以匹配任意小写元音字符："
   ]
  },
  {
   "cell_type": "code",
   "execution_count": 55,
   "metadata": {},
   "outputs": [
    {
     "data": {
      "text/plain": [
       "['c', 'ns', 'q', '', 'nt', '', 'l']"
      ]
     },
     "execution_count": 55,
     "metadata": {},
     "output_type": "execute_result"
    }
   ],
   "source": [
    "regex = re.compile('[aeiou]')\n",
    "regex.split('consequential')"
   ]
  },
  {
   "cell_type": "markdown",
   "metadata": {},
   "source": [
    "类似地，你可以使用短横线（``-``）来指定字符的范围：比如，“``[a-z]``”匹配任意小写字母，“``[1-3]``”匹配任意数字``1``、``2`` 和 ``3``。\n",
    "\n",
    "例如，你可能需要从文档中提取特定的数字代码，包含一个大写字母后跟一个数字。你可以这样书写正则表达式："
   ]
  },
  {
   "cell_type": "code",
   "execution_count": 56,
   "metadata": {},
   "outputs": [
    {
     "data": {
      "text/plain": [
       "['G2', 'H6']"
      ]
     },
     "execution_count": 56,
     "metadata": {},
     "output_type": "execute_result"
    }
   ],
   "source": [
    "regex = re.compile('[A-Z][0-9]')\n",
    "regex.findall('1043879, G2, H6')"
   ]
  },
  {
   "cell_type": "markdown",
   "metadata": {},
   "source": [
    "#### 通配符匹配重复字符\n",
    "\n",
    "如果你需要匹配一个一行中有三个字母或数字的字符串，你也许会这样构造正则表达式：“``\\w\\w\\w``”。但是，由于这是一个普遍的需要，有更具体的语法支持这一重复匹配的需要——用花括号括起一个数字："
   ]
  },
  {
   "cell_type": "code",
   "execution_count": 57,
   "metadata": {},
   "outputs": [
    {
     "data": {
      "text/plain": [
       "['The', 'qui', 'bro', 'fox']"
      ]
     },
     "execution_count": 57,
     "metadata": {},
     "output_type": "execute_result"
    }
   ],
   "source": [
    "regex = re.compile(r'\\w{3}')\n",
    "regex.findall('The quick brown fox')"
   ]
  },
  {
   "cell_type": "markdown",
   "metadata": {},
   "source": [
    "同样，可以使用另外一些标记来匹配任意数量的重复字符——比如，“``+``”字符将会匹配前面字符出现** 1 次或多次**重复："
   ]
  },
  {
   "cell_type": "code",
   "execution_count": 58,
   "metadata": {},
   "outputs": [
    {
     "data": {
      "text/plain": [
       "['The', 'quick', 'brown', 'fox']"
      ]
     },
     "execution_count": 58,
     "metadata": {},
     "output_type": "execute_result"
    }
   ],
   "source": [
    "regex = re.compile(r'\\w+')\n",
    "regex.findall('The quick brown fox')"
   ]
  },
  {
   "cell_type": "markdown",
   "metadata": {},
   "source": [
    "下表总结了正则表达式中的重复标记：\n",
    "\n",
    "| 字符 | 描述 | 举例 |\n",
    "|-----------|-------------|---------|\n",
    "| ``?`` | 匹配前面字符 0 次或 1 次重复  | “``ab?``”匹配 ``\"a\"`` 或 ``\"ab\"`` |\n",
    "| ``*`` | 匹配前面字符 0 次或多次重复 | “``ab*``”匹配 ``\"a\"``、``\"ab\"``、``\"abb\"``、``\"abbb\"``…… |\n",
    "| ``+`` | 匹配前面字符 1 次或多次重复  | “``ab+``”匹配 ``\"ab\"``、``\"abb\"``、``\"abbb\"``……但是不匹配 ``\"a\"`` |\n",
    "| ``{n}`` | 匹配前面字符 ``n`` 次重复 | “``ab{2}``” 匹配 ``\"abb\"`` |\n",
    "| ``{m,n}`` | 匹配前面字符 ``m`` 次到 ``n`` 次重复 | “``ab{2,3}``” 匹配 ``\"abb\"`` 或 ``\"abbb\"`` |"
   ]
  },
  {
   "cell_type": "markdown",
   "metadata": {},
   "source": [
    "脑海中有了这些内容作为基础，我们回到之前邮件地址匹配的那个正则表达式："
   ]
  },
  {
   "cell_type": "code",
   "execution_count": 59,
   "metadata": {
    "collapsed": true
   },
   "outputs": [],
   "source": [
    "email = re.compile(r'\\w+@\\w+\\.[a-z]{3}')"
   ]
  },
  {
   "cell_type": "markdown",
   "metadata": {},
   "source": [
    "我们现在能够理解这意味着什么：我们需要一个或者多个数字或字母（``\"\\w+\"``）后跟 at 符号（``\"@\"``），然后接一个或者多个数字或字母（``\"\\w+\"``），跟着一个句号（``\"\\.\"``，注意这里需要一个反斜杠转义），最后跟恰好三个小写字母（``\"[a-z]{3}\"``）。\n",
    "\n",
    "如果我们要修改这个正则表达式，使得 Obama 的邮件地址能够得到匹配，我们可以使用方括号记号："
   ]
  },
  {
   "cell_type": "code",
   "execution_count": 60,
   "metadata": {},
   "outputs": [
    {
     "data": {
      "text/plain": [
       "['barack.obama@whitehouse.gov']"
      ]
     },
     "execution_count": 60,
     "metadata": {},
     "output_type": "execute_result"
    }
   ],
   "source": [
    "email2 = re.compile(r'[\\w.]+@\\w+\\.[a-z]{3}')\n",
    "email2.findall('barack.obama@whitehouse.gov')"
   ]
  },
  {
   "cell_type": "markdown",
   "metadata": {},
   "source": [
    "我们将 ``\"\\w+\"`` 改为 ``\"[\\w.]+\"``，这样我们就能匹配任意字母或者数字**或者**一个句号。有了这个更为灵活的表达式，我们能够匹配更广范围的邮件地址（尽管仍然不是全部——你能找出这个正则表达式的其他不足吗？"
   ]
  },
  {
   "cell_type": "markdown",
   "metadata": {},
   "source": [
    "#### 通过小括号进行分组提取\n",
    "\n",
    "对于复合正则表达式，比如我们的邮件匹配器，我们经常需要提取它们的一部分，而不是全部匹配内容。这可以通过*分组 (group)*实现："
   ]
  },
  {
   "cell_type": "code",
   "execution_count": 61,
   "metadata": {
    "collapsed": true
   },
   "outputs": [],
   "source": [
    "email3 = re.compile(r'([\\w.]+)@(\\w+)\\.([a-z]{3})')"
   ]
  },
  {
   "cell_type": "code",
   "execution_count": 62,
   "metadata": {},
   "outputs": [
    {
     "data": {
      "text/plain": [
       "[('guido', 'python', 'org'), ('guido', 'google', 'com')]"
      ]
     },
     "execution_count": 62,
     "metadata": {},
     "output_type": "execute_result"
    }
   ],
   "source": [
    "text = \"To email Guido, try guido@python.org or the older address guido@google.com.\"\n",
    "email3.findall(text)"
   ]
  },
  {
   "cell_type": "markdown",
   "metadata": {},
   "source": [
    "正如我们所看到的这样，这个分组恰好提取出了一个包含所有邮件子部件的列表。\n",
    "\n",
    "我们可以进一步地使用 ``\"(?P<name> )\"`` 语法给提取的组*命名 (name)*，在这种情况下组别被提取为 Python 的字典："
   ]
  },
  {
   "cell_type": "code",
   "execution_count": 63,
   "metadata": {},
   "outputs": [
    {
     "data": {
      "text/plain": [
       "{'domain': 'python', 'suffix': 'org', 'user': 'guido'}"
      ]
     },
     "execution_count": 63,
     "metadata": {},
     "output_type": "execute_result"
    }
   ],
   "source": [
    "email4 = re.compile(r'(?P<user>[\\w.]+)@(?P<domain>\\w+)\\.(?P<suffix>[a-z]{3})')\n",
    "match = email4.match('guido@python.org')\n",
    "match.groupdict()"
   ]
  },
  {
   "cell_type": "markdown",
   "metadata": {},
   "source": [
    "结合这些想法（以及我们未在这里介绍的一些强大的正则表达式语法），你可以灵活快速地从 Python 中的字符串中提取信息。"
   ]
  },
  {
   "cell_type": "markdown",
   "metadata": {},
   "source": [
    "### 关于正则表达式的更多资源\n",
    "\n",
    "之前我们对于正则表达式的讨论仅仅只是一个快速的概览，对于这个庞大的主题远远不够。如果你对此有兴趣并且想知道更多的内容，我推荐了如下的资源：\n",
    "\n",
    "- 《[Python ``re`` 库函数文档](https://docs.python.org/3/library/re.html)》：我发现我每次需要使用正则表达式的时候都会忘记如何使用它们。既然我已经对这些内容有一些基本的了解，我发觉这个文档对我来说非常有价值。通过这个文档我可以迅速回忆起来正则表达式中一个特定的符号或者序列的意义。\n",
    "- 《[Python 官方正则表达式入门手册](https://docs.python.org/3/howto/regex.html)》：这个页面提供了一个更加直白的方法来介绍 Python 中的正则表达式。\n",
    "- 《[精通正则表达式 (OReilly, 2006)](http://shop.oreilly.com/product/9780596528126.do)》：这本书 500 余页，完整详细地介绍了正则表达式的内容。如果你需要一个完整的解决方案，这本书是你的不二之选。\n",
    "\n",
    "对于更大范围内字符串操作和正则表达式实际使用的一些例子，可以看第 15 章《[Pandas：标签化面向行数据存储](15-Preview-of-Data-Science-Tools.ipynb#Pandas:-Labeled-Column-oriented-Data)》一小节。在这一节中我们利用 Pandas 库，会看到应用这些表达式在*表格 (tables)*之间处理字符串数据。"
   ]
  }
 ],
 "metadata": {
  "anaconda-cloud": {},
  "kernelspec": {
   "display_name": "Python 3",
   "language": "python",
   "name": "python3"
  },
  "language_info": {
   "codemirror_mode": {
    "name": "ipython",
    "version": 2
   },
   "file_extension": ".py",
   "mimetype": "text/x-python",
   "name": "python",
   "nbconvert_exporter": "python",
   "pygments_lexer": "ipython2",
   "version": "2.7.13"
  }
 },
 "nbformat": 4,
 "nbformat_minor": 1
}
