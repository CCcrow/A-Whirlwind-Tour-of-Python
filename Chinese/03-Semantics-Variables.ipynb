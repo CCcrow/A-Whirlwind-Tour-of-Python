{
 "cells": [
  {
   "cell_type": "markdown",
   "metadata": {},
   "source": [
    "*This notebook comes from [A Whirlwind Tour of Python](http://www.oreilly.com/programming/free/a-whirlwind-tour-of-python.csp) by Jake VanderPlas (OReilly Media, 2016). This content is licensed [CC0](https://github.com/jakevdp/WhirlwindTourOfPython/blob/master/LICENSE). The full notebook listing is available at https://github.com/jakevdp/WhirlwindTourOfPython.*"
   ]
  },
  {
   "cell_type": "markdown",
   "metadata": {},
   "source": [
    "<!--NAVIGATION-->\n",
    "< [A Quick Tour of Python Language Syntax](02-Basic-Python-Syntax.ipynb) | [Contents](Index.ipynb) | [Basic Python Semantics: Operators](04-Semantics-Operators.ipynb) >"
   ]
  },
  {
   "cell_type": "markdown",
   "metadata": {},
   "source": [
    "# 基本的 Python 语义：变量和对象"
   ]
  },
  {
   "cell_type": "markdown",
   "metadata": {},
   "source": [
    "本节将开始介绍Python语言的基本语义。\n",
    "与上一节所述的*语法不同，语言的*语义*涉及语句的含义。\n",
    "正如我们对语法的讨论一样，我们预览 Python 中一些基本的语义结构，为您提供一个更好的参考框架，以了解以后章节的代码。\n",
    "\n",
    "本节将介绍*变量*和*对象*的语义，这是您在 Python 脚本中存储、引用和操作数据的主要方式。"
   ]
  },
  {
   "cell_type": "markdown",
   "metadata": {},
   "source": [
    "## Python 的变量是指针\n",
    "\n",
    "对 Python 的变量赋值就把一个变量名放到等号（``=``）的左边就好。\n",
    "\n",
    "```python\n",
    "# 把 4 赋给变量 x\n",
    "x = 4\n",
    "```\n",
    "\n",
    "这可能看起来很简单，但如果你对此操作有错误的心理预期，那么 Python 的工作方式可能会令你很困惑。\n",
    "我们将在这里简要介绍一下。\n",
    "\n",
    "在许多编程语言中，变量一般被认为是存放数据的容器或一个桶一样的东西。\n",
    "所以在C中，例如，当你写\n",
    "\n",
    "```C\n",
    "// C code\n",
    "int x = 4;\n",
    "```\n",
    "\n",
    "本质上，你定义了一个名为 `x` 的“内存桶”，并将值 `4` 放入其中。\n",
    "在 Python 中，相比之下，变量并不是作为容器而是作为一个指针（译者注： Python 中并没有 C 语言那样的指针类型，它表现得更像 C++ 或者 Java中引用的概念，后文中的指针一般是使用这里的含义）。\n",
    "所以在 Python 中，当你写\n",
    "\n",
    "```python\n",
    "x = 4\n",
    "```\n",
    "\n",
    "你本质上定义一个名为 `x` 的指针，指向一些包含值 `4` 的内存中的位置。\n",
    "注意一个后果：因为 Python 变量只是指向各种对象，所以不需要“声明”变量，甚至不需要要求变量总是指向相同类型的信息！\n",
    "这是人们所说的Python的*动态类型*：变量名称可以指向任何类型的对象。\n",
    "所以在Python中，你可以这样做："
   ]
  },
  {
   "cell_type": "code",
   "execution_count": 1,
   "metadata": {},
   "outputs": [],
   "source": [
    "x = 1         # x 是一个整数类型\n",
    "x = 'hello'   # 现在 x 是一个字符串\n",
    "x = [1, 2, 3] # 现在 x 是一个列表"
   ]
  },
  {
   "cell_type": "markdown",
   "metadata": {},
   "source": [
    "然而静态类型语言的用户可能会想念类似于 C 语言中的通过声明保证的类型安全性。\n",
    "\n",
    "```C\n",
    "int x = 4;\n",
    "```\n",
    "\n",
    "这种动态类型是使 Python 能够快速编写并易于阅读的原因之一。\n",
    "你需要注意使用这种“指针类型变量”的后果。\n",
    "\n",
    "如果我们有两个变量名指向相同的*可变*对象，那么更改其中一个也会改变另一个！\n",
    "例如，我们来创建和修改列表："
   ]
  },
  {
   "cell_type": "code",
   "execution_count": 2,
   "metadata": {},
   "outputs": [],
   "source": [
    "x = [1, 2, 3]\n",
    "y = x"
   ]
  },
  {
   "cell_type": "markdown",
   "metadata": {},
   "source": [
    "我们创建两个变量 ``x`` 和 ``y`` 指向同一个对象。\n",
    "由于这样，如果我们通过其中一个变量名来修改这个列表，我们会看到“另一个”列表也被同时改变了。"
   ]
  },
  {
   "cell_type": "code",
   "execution_count": 3,
   "metadata": {},
   "outputs": [
    {
     "name": "stdout",
     "output_type": "stream",
     "text": [
      "[1, 2, 3]\n"
     ]
    }
   ],
   "source": [
    "print(y)"
   ]
  },
  {
   "cell_type": "code",
   "execution_count": 4,
   "metadata": {},
   "outputs": [
    {
     "name": "stdout",
     "output_type": "stream",
     "text": [
      "[1, 2, 3, 4]\n"
     ]
    }
   ],
   "source": [
    "x.append(4) # 把 4 加到 x 指向的列表\n",
    "print(y) # y 的列表也被改变了"
   ]
  },
  {
   "cell_type": "markdown",
   "metadata": {},
   "source": [
    "如果您错误地将变量视为包含数据的“桶”，那么这种行为可能会令人困惑。\n",
    "但是，如果您将变量正确地视为指向对象的指针，那么这种行为是有道理的。\n",
    "\n",
    "如果我们用 \"``=``\" 把另外一个值赋给 ``x``， 就不会影响到 ``y`` 的值 – 赋值是改变变量指向的对象："
   ]
  },
  {
   "cell_type": "code",
   "execution_count": 5,
   "metadata": {},
   "outputs": [
    {
     "name": "stdout",
     "output_type": "stream",
     "text": [
      "[1, 2, 3, 4]\n"
     ]
    }
   ],
   "source": [
    "x = 'something else'\n",
    "print(y)  # y is unchanged"
   ]
  },
  {
   "cell_type": "markdown",
   "metadata": {},
   "source": [
    "再次强调，把 ``x`` 和 ``y`` 看作指针，把“`=`”看做改变变量名指向的东西的操作，是很重要的思想。\n",
    "\n",
    "你可能会想知道这个指针的想法是否使得Python中的算术运算难以追踪，但是 Python 被设计成不存在这个问题。 数字，字符串和其他*简单类型*是不可变的：你不能更改它的值 - 你只能更改变量指向的值。\n",
    "所以，执行如下操作是完全安全的："
   ]
  },
  {
   "cell_type": "code",
   "execution_count": 6,
   "metadata": {},
   "outputs": [
    {
     "name": "stdout",
     "output_type": "stream",
     "text": [
      "x = 15\n",
      "y = 10\n"
     ]
    }
   ],
   "source": [
    "x = 10\n",
    "y = x\n",
    "x += 5  # 把 x 的值加上 5 再赋给 x\n",
    "print(\"x =\", x)\n",
    "print(\"y =\", y)"
   ]
  },
  {
   "cell_type": "markdown",
   "metadata": {},
   "source": [
    "当我们执行 ``x += 5`` 时, 我们不会改变值为 ``10`` 的那个被 ``x`` 指向的对象; 我们会让 ``x`` 重新指向一个值为 ``15`` 的新的对象。\n",
    "因此 ``y`` 的值不会受到这个操作的影响。"
   ]
  },
  {
   "cell_type": "markdown",
   "metadata": {},
   "source": [
    "## 一切皆对象\n",
    "\n",
    "Python 是一门面向对象的编程语言，所以 Python 中的一切都是对象。\n",
    "\n",
    "我们来看看这是什么意思。 之前我们看到变量是简单的指针，变量名本身没有附加的类型信息。\n",
    "这导致一些人错误地声称Python是一种无类型的语言。 但事实并非如此！\n",
    "考虑以下几点："
   ]
  },
  {
   "cell_type": "code",
   "execution_count": 7,
   "metadata": {},
   "outputs": [
    {
     "data": {
      "text/plain": [
       "int"
      ]
     },
     "execution_count": 7,
     "metadata": {},
     "output_type": "execute_result"
    }
   ],
   "source": [
    "x = 4\n",
    "type(x)"
   ]
  },
  {
   "cell_type": "code",
   "execution_count": 8,
   "metadata": {},
   "outputs": [
    {
     "data": {
      "text/plain": [
       "str"
      ]
     },
     "execution_count": 8,
     "metadata": {},
     "output_type": "execute_result"
    }
   ],
   "source": [
    "x = 'hello'\n",
    "type(x)"
   ]
  },
  {
   "cell_type": "code",
   "execution_count": 9,
   "metadata": {},
   "outputs": [
    {
     "data": {
      "text/plain": [
       "float"
      ]
     },
     "execution_count": 9,
     "metadata": {},
     "output_type": "execute_result"
    }
   ],
   "source": [
    "x = 3.14159\n",
    "type(x)"
   ]
  },
  {
   "cell_type": "markdown",
   "metadata": {},
   "source": [
    "Python 有类型; 然而，这些类型不是链接到变量名，而是与对象本身相连。\n",
    "\n",
    "在面向对象的编程语言（如Python）中，*对象*是一个包含数据以及关联的元数据和功能的实体。\n",
    "在 Python 中，一切都是对象，这意味着每个实体都有一些元数据（称为*属性*）和关联的功能（称为*方法*）。\n",
    "这些属性和方法通过点号访问。\n",
    "\n",
    "例如，在我们看到列表有一个“append”方法之前，它将一个元素添加到列表中，并通过点号（“``.``”）访问："
   ]
  },
  {
   "cell_type": "code",
   "execution_count": 10,
   "metadata": {},
   "outputs": [
    {
     "name": "stdout",
     "output_type": "stream",
     "text": [
      "[1, 2, 3, 100]\n"
     ]
    }
   ],
   "source": [
    "L = [1, 2, 3]\n",
    "L.append(100)\n",
    "print(L)"
   ]
  },
  {
   "cell_type": "markdown",
   "metadata": {},
   "source": [
    "可能一般会认为复合对象（如列表）具有属性和方法，但令人意外的是，在 Python 中，即使是简单类型也附加了属性和方法。\n",
    "\n",
    "比如, 数值类型拥有 ``real`` 和 ``imag`` 属性，保存了这个值的实部和虚部（如果把它看成一个复数）。"
   ]
  },
  {
   "cell_type": "code",
   "execution_count": 11,
   "metadata": {},
   "outputs": [
    {
     "name": "stdout",
     "output_type": "stream",
     "text": [
      "4.5 + 0.0 i\n"
     ]
    }
   ],
   "source": [
    "x = 4.5\n",
    "print(x.real, \"+\", x.imag, 'i')"
   ]
  },
  {
   "cell_type": "markdown",
   "metadata": {},
   "source": [
    "方法和属性类似，不过它们是使用小括号来调用的函数。\n",
    "例如，浮点数有一个叫做``is_integer``的方法来检查这个值是否是一个整数："
   ]
  },
  {
   "cell_type": "code",
   "execution_count": 12,
   "metadata": {},
   "outputs": [
    {
     "data": {
      "text/plain": [
       "False"
      ]
     },
     "execution_count": 12,
     "metadata": {},
     "output_type": "execute_result"
    }
   ],
   "source": [
    "x = 4.5\n",
    "x.is_integer()"
   ]
  },
  {
   "cell_type": "code",
   "execution_count": 13,
   "metadata": {},
   "outputs": [
    {
     "data": {
      "text/plain": [
       "True"
      ]
     },
     "execution_count": 13,
     "metadata": {},
     "output_type": "execute_result"
    }
   ],
   "source": [
    "x = 4.0\n",
    "x.is_integer()"
   ]
  },
  {
   "cell_type": "markdown",
   "metadata": {},
   "source": [
    "当我们说Python中的所有东西都是一个对象时，我们的意思是*一切都是一个对象 - 即使是对象的属性和方法本身就是自己的一个有“``type``信息的对象。"
   ]
  },
  {
   "cell_type": "code",
   "execution_count": 14,
   "metadata": {},
   "outputs": [
    {
     "data": {
      "text/plain": [
       "builtin_function_or_method"
      ]
     },
     "execution_count": 14,
     "metadata": {},
     "output_type": "execute_result"
    }
   ],
   "source": [
    "type(x.is_integer)"
   ]
  },
  {
   "cell_type": "markdown",
   "metadata": {},
   "source": [
    "我们会发现Python的一切皆对象的设计带来了一些非常方便的语言结构。"
   ]
  },
  {
   "cell_type": "markdown",
   "metadata": {},
   "source": [
    "<!--NAVIGATION-->\n",
    "< [A Quick Tour of Python Language Syntax](02-Basic-Python-Syntax.ipynb) | [Contents](Index.ipynb) | [Basic Python Semantics: Operators](04-Semantics-Operators.ipynb) >"
   ]
  }
 ],
 "metadata": {
  "anaconda-cloud": {},
  "kernelspec": {
   "display_name": "Python 3",
   "language": "python",
   "name": "python3"
  },
  "language_info": {
   "codemirror_mode": {
    "name": "ipython",
    "version": 3
   },
   "file_extension": ".py",
   "mimetype": "text/x-python",
   "name": "python",
   "nbconvert_exporter": "python",
   "pygments_lexer": "ipython3",
   "version": "3.6.2"
  }
 },
 "nbformat": 4,
 "nbformat_minor": 1
}
